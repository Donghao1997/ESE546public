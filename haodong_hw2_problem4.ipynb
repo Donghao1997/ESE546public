{
  "nbformat": 4,
  "nbformat_minor": 0,
  "metadata": {
    "colab": {
      "name": "haodong_hw2_problem4.ipynb",
      "provenance": [],
      "collapsed_sections": [],
      "include_colab_link": true
    },
    "kernelspec": {
      "name": "python3",
      "display_name": "Python 3"
    },
    "accelerator": "GPU",
    "widgets": {
      "application/vnd.jupyter.widget-state+json": {
        "b99c2abc93304f629c95d9ea9dcee671": {
          "model_module": "@jupyter-widgets/controls",
          "model_name": "HBoxModel",
          "model_module_version": "1.5.0",
          "state": {
            "_view_name": "HBoxView",
            "_dom_classes": [],
            "_model_name": "HBoxModel",
            "_view_module": "@jupyter-widgets/controls",
            "_model_module_version": "1.5.0",
            "_view_count": null,
            "_view_module_version": "1.5.0",
            "box_style": "",
            "layout": "IPY_MODEL_b19b06590a024965b67ffdcf3ad1f5c6",
            "_model_module": "@jupyter-widgets/controls",
            "children": [
              "IPY_MODEL_c971b5764d7c40d7805e77c148b4eda1",
              "IPY_MODEL_b9f5fe6174c247f08e6e9709520badff",
              "IPY_MODEL_a049016b8c514743a65bb6afee7be149"
            ]
          }
        },
        "b19b06590a024965b67ffdcf3ad1f5c6": {
          "model_module": "@jupyter-widgets/base",
          "model_name": "LayoutModel",
          "model_module_version": "1.2.0",
          "state": {
            "_view_name": "LayoutView",
            "grid_template_rows": null,
            "right": null,
            "justify_content": null,
            "_view_module": "@jupyter-widgets/base",
            "overflow": null,
            "_model_module_version": "1.2.0",
            "_view_count": null,
            "flex_flow": null,
            "width": null,
            "min_width": null,
            "border": null,
            "align_items": null,
            "bottom": null,
            "_model_module": "@jupyter-widgets/base",
            "top": null,
            "grid_column": null,
            "overflow_y": null,
            "overflow_x": null,
            "grid_auto_flow": null,
            "grid_area": null,
            "grid_template_columns": null,
            "flex": null,
            "_model_name": "LayoutModel",
            "justify_items": null,
            "grid_row": null,
            "max_height": null,
            "align_content": null,
            "visibility": null,
            "align_self": null,
            "height": null,
            "min_height": null,
            "padding": null,
            "grid_auto_rows": null,
            "grid_gap": null,
            "max_width": null,
            "order": null,
            "_view_module_version": "1.2.0",
            "grid_template_areas": null,
            "object_position": null,
            "object_fit": null,
            "grid_auto_columns": null,
            "margin": null,
            "display": null,
            "left": null
          }
        },
        "c971b5764d7c40d7805e77c148b4eda1": {
          "model_module": "@jupyter-widgets/controls",
          "model_name": "HTMLModel",
          "model_module_version": "1.5.0",
          "state": {
            "_view_name": "HTMLView",
            "style": "IPY_MODEL_bb4363f4b01849a3a3edc5e6724ce6de",
            "_dom_classes": [],
            "description": "",
            "_model_name": "HTMLModel",
            "placeholder": "​",
            "_view_module": "@jupyter-widgets/controls",
            "_model_module_version": "1.5.0",
            "value": "",
            "_view_count": null,
            "_view_module_version": "1.5.0",
            "description_tooltip": null,
            "_model_module": "@jupyter-widgets/controls",
            "layout": "IPY_MODEL_a74b60fe4cb249dd8481f898d5f62a49"
          }
        },
        "b9f5fe6174c247f08e6e9709520badff": {
          "model_module": "@jupyter-widgets/controls",
          "model_name": "FloatProgressModel",
          "model_module_version": "1.5.0",
          "state": {
            "_view_name": "ProgressView",
            "style": "IPY_MODEL_b5aae1f87c644d98acdd844b16bb3d97",
            "_dom_classes": [],
            "description": "",
            "_model_name": "FloatProgressModel",
            "bar_style": "success",
            "max": 170498071,
            "_view_module": "@jupyter-widgets/controls",
            "_model_module_version": "1.5.0",
            "value": 170498071,
            "_view_count": null,
            "_view_module_version": "1.5.0",
            "orientation": "horizontal",
            "min": 0,
            "description_tooltip": null,
            "_model_module": "@jupyter-widgets/controls",
            "layout": "IPY_MODEL_1b50977802074abb908aab1b7dfae862"
          }
        },
        "a049016b8c514743a65bb6afee7be149": {
          "model_module": "@jupyter-widgets/controls",
          "model_name": "HTMLModel",
          "model_module_version": "1.5.0",
          "state": {
            "_view_name": "HTMLView",
            "style": "IPY_MODEL_06c1829e94ee4360b3d4c7c016fb0bb1",
            "_dom_classes": [],
            "description": "",
            "_model_name": "HTMLModel",
            "placeholder": "​",
            "_view_module": "@jupyter-widgets/controls",
            "_model_module_version": "1.5.0",
            "value": " 170499072/? [00:06&lt;00:00, 30986182.98it/s]",
            "_view_count": null,
            "_view_module_version": "1.5.0",
            "description_tooltip": null,
            "_model_module": "@jupyter-widgets/controls",
            "layout": "IPY_MODEL_4cca1a6a1baf4ace8242a0eaa38b62b4"
          }
        },
        "bb4363f4b01849a3a3edc5e6724ce6de": {
          "model_module": "@jupyter-widgets/controls",
          "model_name": "DescriptionStyleModel",
          "model_module_version": "1.5.0",
          "state": {
            "_view_name": "StyleView",
            "_model_name": "DescriptionStyleModel",
            "description_width": "",
            "_view_module": "@jupyter-widgets/base",
            "_model_module_version": "1.5.0",
            "_view_count": null,
            "_view_module_version": "1.2.0",
            "_model_module": "@jupyter-widgets/controls"
          }
        },
        "a74b60fe4cb249dd8481f898d5f62a49": {
          "model_module": "@jupyter-widgets/base",
          "model_name": "LayoutModel",
          "model_module_version": "1.2.0",
          "state": {
            "_view_name": "LayoutView",
            "grid_template_rows": null,
            "right": null,
            "justify_content": null,
            "_view_module": "@jupyter-widgets/base",
            "overflow": null,
            "_model_module_version": "1.2.0",
            "_view_count": null,
            "flex_flow": null,
            "width": null,
            "min_width": null,
            "border": null,
            "align_items": null,
            "bottom": null,
            "_model_module": "@jupyter-widgets/base",
            "top": null,
            "grid_column": null,
            "overflow_y": null,
            "overflow_x": null,
            "grid_auto_flow": null,
            "grid_area": null,
            "grid_template_columns": null,
            "flex": null,
            "_model_name": "LayoutModel",
            "justify_items": null,
            "grid_row": null,
            "max_height": null,
            "align_content": null,
            "visibility": null,
            "align_self": null,
            "height": null,
            "min_height": null,
            "padding": null,
            "grid_auto_rows": null,
            "grid_gap": null,
            "max_width": null,
            "order": null,
            "_view_module_version": "1.2.0",
            "grid_template_areas": null,
            "object_position": null,
            "object_fit": null,
            "grid_auto_columns": null,
            "margin": null,
            "display": null,
            "left": null
          }
        },
        "b5aae1f87c644d98acdd844b16bb3d97": {
          "model_module": "@jupyter-widgets/controls",
          "model_name": "ProgressStyleModel",
          "model_module_version": "1.5.0",
          "state": {
            "_view_name": "StyleView",
            "_model_name": "ProgressStyleModel",
            "description_width": "",
            "_view_module": "@jupyter-widgets/base",
            "_model_module_version": "1.5.0",
            "_view_count": null,
            "_view_module_version": "1.2.0",
            "bar_color": null,
            "_model_module": "@jupyter-widgets/controls"
          }
        },
        "1b50977802074abb908aab1b7dfae862": {
          "model_module": "@jupyter-widgets/base",
          "model_name": "LayoutModel",
          "model_module_version": "1.2.0",
          "state": {
            "_view_name": "LayoutView",
            "grid_template_rows": null,
            "right": null,
            "justify_content": null,
            "_view_module": "@jupyter-widgets/base",
            "overflow": null,
            "_model_module_version": "1.2.0",
            "_view_count": null,
            "flex_flow": null,
            "width": null,
            "min_width": null,
            "border": null,
            "align_items": null,
            "bottom": null,
            "_model_module": "@jupyter-widgets/base",
            "top": null,
            "grid_column": null,
            "overflow_y": null,
            "overflow_x": null,
            "grid_auto_flow": null,
            "grid_area": null,
            "grid_template_columns": null,
            "flex": null,
            "_model_name": "LayoutModel",
            "justify_items": null,
            "grid_row": null,
            "max_height": null,
            "align_content": null,
            "visibility": null,
            "align_self": null,
            "height": null,
            "min_height": null,
            "padding": null,
            "grid_auto_rows": null,
            "grid_gap": null,
            "max_width": null,
            "order": null,
            "_view_module_version": "1.2.0",
            "grid_template_areas": null,
            "object_position": null,
            "object_fit": null,
            "grid_auto_columns": null,
            "margin": null,
            "display": null,
            "left": null
          }
        },
        "06c1829e94ee4360b3d4c7c016fb0bb1": {
          "model_module": "@jupyter-widgets/controls",
          "model_name": "DescriptionStyleModel",
          "model_module_version": "1.5.0",
          "state": {
            "_view_name": "StyleView",
            "_model_name": "DescriptionStyleModel",
            "description_width": "",
            "_view_module": "@jupyter-widgets/base",
            "_model_module_version": "1.5.0",
            "_view_count": null,
            "_view_module_version": "1.2.0",
            "_model_module": "@jupyter-widgets/controls"
          }
        },
        "4cca1a6a1baf4ace8242a0eaa38b62b4": {
          "model_module": "@jupyter-widgets/base",
          "model_name": "LayoutModel",
          "model_module_version": "1.2.0",
          "state": {
            "_view_name": "LayoutView",
            "grid_template_rows": null,
            "right": null,
            "justify_content": null,
            "_view_module": "@jupyter-widgets/base",
            "overflow": null,
            "_model_module_version": "1.2.0",
            "_view_count": null,
            "flex_flow": null,
            "width": null,
            "min_width": null,
            "border": null,
            "align_items": null,
            "bottom": null,
            "_model_module": "@jupyter-widgets/base",
            "top": null,
            "grid_column": null,
            "overflow_y": null,
            "overflow_x": null,
            "grid_auto_flow": null,
            "grid_area": null,
            "grid_template_columns": null,
            "flex": null,
            "_model_name": "LayoutModel",
            "justify_items": null,
            "grid_row": null,
            "max_height": null,
            "align_content": null,
            "visibility": null,
            "align_self": null,
            "height": null,
            "min_height": null,
            "padding": null,
            "grid_auto_rows": null,
            "grid_gap": null,
            "max_width": null,
            "order": null,
            "_view_module_version": "1.2.0",
            "grid_template_areas": null,
            "object_position": null,
            "object_fit": null,
            "grid_auto_columns": null,
            "margin": null,
            "display": null,
            "left": null
          }
        },
        "6613529848ca4a8197ee6ac2a6d9ff37": {
          "model_module": "@jupyter-widgets/controls",
          "model_name": "HBoxModel",
          "model_module_version": "1.5.0",
          "state": {
            "_view_name": "HBoxView",
            "_dom_classes": [],
            "_model_name": "HBoxModel",
            "_view_module": "@jupyter-widgets/controls",
            "_model_module_version": "1.5.0",
            "_view_count": null,
            "_view_module_version": "1.5.0",
            "box_style": "",
            "layout": "IPY_MODEL_207134e0ced0429cbfd35be340ff37e6",
            "_model_module": "@jupyter-widgets/controls",
            "children": [
              "IPY_MODEL_2c8d868939464734a1f545f95c1e8709",
              "IPY_MODEL_d18bfdf861e34f8ebfe0cf194b84f533",
              "IPY_MODEL_694cca66794a46fe96a40d042c7cdb93"
            ]
          }
        },
        "207134e0ced0429cbfd35be340ff37e6": {
          "model_module": "@jupyter-widgets/base",
          "model_name": "LayoutModel",
          "model_module_version": "1.2.0",
          "state": {
            "_view_name": "LayoutView",
            "grid_template_rows": null,
            "right": null,
            "justify_content": null,
            "_view_module": "@jupyter-widgets/base",
            "overflow": null,
            "_model_module_version": "1.2.0",
            "_view_count": null,
            "flex_flow": null,
            "width": null,
            "min_width": null,
            "border": null,
            "align_items": null,
            "bottom": null,
            "_model_module": "@jupyter-widgets/base",
            "top": null,
            "grid_column": null,
            "overflow_y": null,
            "overflow_x": null,
            "grid_auto_flow": null,
            "grid_area": null,
            "grid_template_columns": null,
            "flex": null,
            "_model_name": "LayoutModel",
            "justify_items": null,
            "grid_row": null,
            "max_height": null,
            "align_content": null,
            "visibility": null,
            "align_self": null,
            "height": null,
            "min_height": null,
            "padding": null,
            "grid_auto_rows": null,
            "grid_gap": null,
            "max_width": null,
            "order": null,
            "_view_module_version": "1.2.0",
            "grid_template_areas": null,
            "object_position": null,
            "object_fit": null,
            "grid_auto_columns": null,
            "margin": null,
            "display": null,
            "left": null
          }
        },
        "2c8d868939464734a1f545f95c1e8709": {
          "model_module": "@jupyter-widgets/controls",
          "model_name": "HTMLModel",
          "model_module_version": "1.5.0",
          "state": {
            "_view_name": "HTMLView",
            "style": "IPY_MODEL_a608490f50da46b69202cdb9b9c181b0",
            "_dom_classes": [],
            "description": "",
            "_model_name": "HTMLModel",
            "placeholder": "​",
            "_view_module": "@jupyter-widgets/controls",
            "_model_module_version": "1.5.0",
            "value": "",
            "_view_count": null,
            "_view_module_version": "1.5.0",
            "description_tooltip": null,
            "_model_module": "@jupyter-widgets/controls",
            "layout": "IPY_MODEL_9b76c48d60d046e8b4bddd6885016972"
          }
        },
        "d18bfdf861e34f8ebfe0cf194b84f533": {
          "model_module": "@jupyter-widgets/controls",
          "model_name": "FloatProgressModel",
          "model_module_version": "1.5.0",
          "state": {
            "_view_name": "ProgressView",
            "style": "IPY_MODEL_e53b764d8c6f4ce18678ff559664fb05",
            "_dom_classes": [],
            "description": "",
            "_model_name": "FloatProgressModel",
            "bar_style": "success",
            "max": 170498071,
            "_view_module": "@jupyter-widgets/controls",
            "_model_module_version": "1.5.0",
            "value": 170498071,
            "_view_count": null,
            "_view_module_version": "1.5.0",
            "orientation": "horizontal",
            "min": 0,
            "description_tooltip": null,
            "_model_module": "@jupyter-widgets/controls",
            "layout": "IPY_MODEL_0e2daadbad3a4ac9b11ee2f53636a599"
          }
        },
        "694cca66794a46fe96a40d042c7cdb93": {
          "model_module": "@jupyter-widgets/controls",
          "model_name": "HTMLModel",
          "model_module_version": "1.5.0",
          "state": {
            "_view_name": "HTMLView",
            "style": "IPY_MODEL_ebc93daf1f8f4d6d85991ff9c72fa9c9",
            "_dom_classes": [],
            "description": "",
            "_model_name": "HTMLModel",
            "placeholder": "​",
            "_view_module": "@jupyter-widgets/controls",
            "_model_module_version": "1.5.0",
            "value": " 170499072/? [00:06&lt;00:00, 31096569.05it/s]",
            "_view_count": null,
            "_view_module_version": "1.5.0",
            "description_tooltip": null,
            "_model_module": "@jupyter-widgets/controls",
            "layout": "IPY_MODEL_1e4d547a7873491f9ee55a2d405d4274"
          }
        },
        "a608490f50da46b69202cdb9b9c181b0": {
          "model_module": "@jupyter-widgets/controls",
          "model_name": "DescriptionStyleModel",
          "model_module_version": "1.5.0",
          "state": {
            "_view_name": "StyleView",
            "_model_name": "DescriptionStyleModel",
            "description_width": "",
            "_view_module": "@jupyter-widgets/base",
            "_model_module_version": "1.5.0",
            "_view_count": null,
            "_view_module_version": "1.2.0",
            "_model_module": "@jupyter-widgets/controls"
          }
        },
        "9b76c48d60d046e8b4bddd6885016972": {
          "model_module": "@jupyter-widgets/base",
          "model_name": "LayoutModel",
          "model_module_version": "1.2.0",
          "state": {
            "_view_name": "LayoutView",
            "grid_template_rows": null,
            "right": null,
            "justify_content": null,
            "_view_module": "@jupyter-widgets/base",
            "overflow": null,
            "_model_module_version": "1.2.0",
            "_view_count": null,
            "flex_flow": null,
            "width": null,
            "min_width": null,
            "border": null,
            "align_items": null,
            "bottom": null,
            "_model_module": "@jupyter-widgets/base",
            "top": null,
            "grid_column": null,
            "overflow_y": null,
            "overflow_x": null,
            "grid_auto_flow": null,
            "grid_area": null,
            "grid_template_columns": null,
            "flex": null,
            "_model_name": "LayoutModel",
            "justify_items": null,
            "grid_row": null,
            "max_height": null,
            "align_content": null,
            "visibility": null,
            "align_self": null,
            "height": null,
            "min_height": null,
            "padding": null,
            "grid_auto_rows": null,
            "grid_gap": null,
            "max_width": null,
            "order": null,
            "_view_module_version": "1.2.0",
            "grid_template_areas": null,
            "object_position": null,
            "object_fit": null,
            "grid_auto_columns": null,
            "margin": null,
            "display": null,
            "left": null
          }
        },
        "e53b764d8c6f4ce18678ff559664fb05": {
          "model_module": "@jupyter-widgets/controls",
          "model_name": "ProgressStyleModel",
          "model_module_version": "1.5.0",
          "state": {
            "_view_name": "StyleView",
            "_model_name": "ProgressStyleModel",
            "description_width": "",
            "_view_module": "@jupyter-widgets/base",
            "_model_module_version": "1.5.0",
            "_view_count": null,
            "_view_module_version": "1.2.0",
            "bar_color": null,
            "_model_module": "@jupyter-widgets/controls"
          }
        },
        "0e2daadbad3a4ac9b11ee2f53636a599": {
          "model_module": "@jupyter-widgets/base",
          "model_name": "LayoutModel",
          "model_module_version": "1.2.0",
          "state": {
            "_view_name": "LayoutView",
            "grid_template_rows": null,
            "right": null,
            "justify_content": null,
            "_view_module": "@jupyter-widgets/base",
            "overflow": null,
            "_model_module_version": "1.2.0",
            "_view_count": null,
            "flex_flow": null,
            "width": null,
            "min_width": null,
            "border": null,
            "align_items": null,
            "bottom": null,
            "_model_module": "@jupyter-widgets/base",
            "top": null,
            "grid_column": null,
            "overflow_y": null,
            "overflow_x": null,
            "grid_auto_flow": null,
            "grid_area": null,
            "grid_template_columns": null,
            "flex": null,
            "_model_name": "LayoutModel",
            "justify_items": null,
            "grid_row": null,
            "max_height": null,
            "align_content": null,
            "visibility": null,
            "align_self": null,
            "height": null,
            "min_height": null,
            "padding": null,
            "grid_auto_rows": null,
            "grid_gap": null,
            "max_width": null,
            "order": null,
            "_view_module_version": "1.2.0",
            "grid_template_areas": null,
            "object_position": null,
            "object_fit": null,
            "grid_auto_columns": null,
            "margin": null,
            "display": null,
            "left": null
          }
        },
        "ebc93daf1f8f4d6d85991ff9c72fa9c9": {
          "model_module": "@jupyter-widgets/controls",
          "model_name": "DescriptionStyleModel",
          "model_module_version": "1.5.0",
          "state": {
            "_view_name": "StyleView",
            "_model_name": "DescriptionStyleModel",
            "description_width": "",
            "_view_module": "@jupyter-widgets/base",
            "_model_module_version": "1.5.0",
            "_view_count": null,
            "_view_module_version": "1.2.0",
            "_model_module": "@jupyter-widgets/controls"
          }
        },
        "1e4d547a7873491f9ee55a2d405d4274": {
          "model_module": "@jupyter-widgets/base",
          "model_name": "LayoutModel",
          "model_module_version": "1.2.0",
          "state": {
            "_view_name": "LayoutView",
            "grid_template_rows": null,
            "right": null,
            "justify_content": null,
            "_view_module": "@jupyter-widgets/base",
            "overflow": null,
            "_model_module_version": "1.2.0",
            "_view_count": null,
            "flex_flow": null,
            "width": null,
            "min_width": null,
            "border": null,
            "align_items": null,
            "bottom": null,
            "_model_module": "@jupyter-widgets/base",
            "top": null,
            "grid_column": null,
            "overflow_y": null,
            "overflow_x": null,
            "grid_auto_flow": null,
            "grid_area": null,
            "grid_template_columns": null,
            "flex": null,
            "_model_name": "LayoutModel",
            "justify_items": null,
            "grid_row": null,
            "max_height": null,
            "align_content": null,
            "visibility": null,
            "align_self": null,
            "height": null,
            "min_height": null,
            "padding": null,
            "grid_auto_rows": null,
            "grid_gap": null,
            "max_width": null,
            "order": null,
            "_view_module_version": "1.2.0",
            "grid_template_areas": null,
            "object_position": null,
            "object_fit": null,
            "grid_auto_columns": null,
            "margin": null,
            "display": null,
            "left": null
          }
        }
      }
    }
  },
  "cells": [
    {
      "cell_type": "markdown",
      "metadata": {
        "id": "view-in-github",
        "colab_type": "text"
      },
      "source": [
        "<a href=\"https://colab.research.google.com/github/Donghao1997/ESE546public/blob/main/haodong_hw2_problem4.ipynb\" target=\"_parent\"><img src=\"https://colab.research.google.com/assets/colab-badge.svg\" alt=\"Open In Colab\"/></a>"
      ]
    },
    {
      "cell_type": "markdown",
      "metadata": {
        "id": "SAqZjwtexZoW"
      },
      "source": [
        "\n",
        "# Tensorboard setup\n",
        "\n",
        "Go to the link generated by the code to look at the training loss curve, you can add accuracy and other things to the plot. Refer to the recitation 2 code for referance."
      ]
    },
    {
      "cell_type": "code",
      "metadata": {
        "id": "JO3_pH3QxYik"
      },
      "source": [
        "LOG_DIR = './logs'\n",
        "get_ipython().system_raw(\n",
        "    'tensorboard --logdir {} --host 0.0.0.0 --port 6006 &'\n",
        "    .format(LOG_DIR)\n",
        ")\n",
        "\n",
        "!if [ -f ngrok ] ; then echo \"Ngrok already installed\" ; else wget https://bin.equinox.io/c/4VmDzA7iaHb/ngrok-stable-linux-amd64.zip > /dev/null 2>&1 && unzip ngrok-stable-linux-amd64.zip > /dev/null 2>&1 ; fi\n"
      ],
      "execution_count": 1,
      "outputs": []
    },
    {
      "cell_type": "code",
      "metadata": {
        "id": "3ikIOIcZxIZV"
      },
      "source": [
        "get_ipython().system_raw('./ngrok http 6006 &')"
      ],
      "execution_count": 2,
      "outputs": []
    },
    {
      "cell_type": "code",
      "metadata": {
        "id": "m0uFbM2-xJAq",
        "colab": {
          "base_uri": "https://localhost:8080/"
        },
        "outputId": "2ab402eb-5a51-4615-e6d3-3f6645717beb"
      },
      "source": [
        "! curl -s http://localhost:4040/api/tunnels | python3 -c \\\n",
        "    \"import sys, json; print('Tensorboard Link: ' +str(json.load(sys.stdin)['tunnels'][0]['public_url']))\""
      ],
      "execution_count": 3,
      "outputs": [
        {
          "output_type": "stream",
          "name": "stdout",
          "text": [
            "Tensorboard Link: http://43bf-34-140-77-142.ngrok.io\n"
          ]
        }
      ]
    },
    {
      "cell_type": "code",
      "metadata": {
        "id": "4fJM8mx7f1AM"
      },
      "source": [
        "import matplotlib.pyplot as plt\n",
        "import torch\n",
        "import torchvision\n",
        "import torch.nn as nn\n",
        "import torchvision.transforms as transforms\n",
        "import torch.optim as optim\n",
        "import tensorflow as tf\n",
        "import numpy as np\n",
        "import scipy.misc \n",
        "try:\n",
        "    from StringIO import StringIO  # Python 2.7\n",
        "except ImportError:\n",
        "    from io import BytesIO         # Python 3.x"
      ],
      "execution_count": 4,
      "outputs": []
    },
    {
      "cell_type": "code",
      "metadata": {
        "id": "QkR1RGEaxMz2"
      },
      "source": [
        "# Code referenced from https://gist.github.com/gyglim/1f8dfb1b5c82627ae3efcfbbadb9f514\n",
        "\n",
        "class Logger(object):\n",
        "    \n",
        "    def __init__(self, log_dir):\n",
        "        \"\"\"Create a summary writer logging to log_dir.\"\"\"\n",
        "        self.writer = tf.summary.FileWriter(log_dir)\n",
        "\n",
        "    def scalar_summary(self, tag, value, step):\n",
        "        \"\"\"Log a scalar variable.\"\"\"\n",
        "        summary = tf.Summary(value=[tf.Summary.Value(tag=tag, simple_value=value)])\n",
        "        self.writer.add_summary(summary, step)\n",
        "\n",
        "    def image_summary(self, tag, images, step):\n",
        "        \"\"\"Log a list of images.\"\"\"\n",
        "\n",
        "        img_summaries = []\n",
        "        for i, img in enumerate(images):\n",
        "            # Write the image to a string\n",
        "            try:\n",
        "                s = StringIO()\n",
        "            except:\n",
        "                s = BytesIO()\n",
        "            scipy.misc.toimage(img).save(s, format=\"png\")\n",
        "\n",
        "            # Create an Image object\n",
        "            img_sum = tf.Summary.Image(encoded_image_string=s.getvalue(),\n",
        "                                       height=img.shape[0],\n",
        "                                       width=img.shape[1])\n",
        "            # Create a Summary value\n",
        "            img_summaries.append(tf.Summary.Value(tag='%s/%d' % (tag, i), image=img_sum))\n",
        "\n",
        "        # Create and write Summary\n",
        "        summary = tf.Summary(value=img_summaries)\n",
        "        self.writer.add_summary(summary, step)\n",
        "        \n",
        "    def histo_summary(self, tag, values, step, bins=1000):\n",
        "        \"\"\"Log a histogram of the tensor of values.\"\"\"\n",
        "\n",
        "        # Create a histogram using numpy\n",
        "        counts, bin_edges = np.histogram(values, bins=bins)\n",
        "\n",
        "        # Fill the fields of the histogram proto\n",
        "        hist = tf.HistogramProto()\n",
        "        hist.min = float(np.min(values))\n",
        "        hist.max = float(np.max(values))\n",
        "        hist.num = int(np.prod(values.shape))\n",
        "        hist.sum = float(np.sum(values))\n",
        "        hist.sum_squares = float(np.sum(values**2))\n",
        "\n",
        "        # Drop the start of the first bin\n",
        "        bin_edges = bin_edges[1:]\n",
        "\n",
        "        # Add bin edges and counts\n",
        "        for edge in bin_edges:\n",
        "            hist.bucket_limit.append(edge)\n",
        "        for c in counts:\n",
        "            hist.bucket.append(c)\n",
        "\n",
        "        # Create and write Summary\n",
        "        summary = tf.Summary(value=[tf.Summary.Value(tag=tag, histo=hist)])\n",
        "        self.writer.add_summary(summary, step)\n",
        "        self.writer.flush()\n",
        "\n",
        "  "
      ],
      "execution_count": 5,
      "outputs": []
    },
    {
      "cell_type": "code",
      "metadata": {
        "id": "WB7znsvhyuRH",
        "colab": {
          "base_uri": "https://localhost:8080/"
        },
        "outputId": "ea58e2b4-7251-435c-ae0e-cf79527b1707"
      },
      "source": [
        "# torch and torchvision imports\n",
        "import torch\n",
        "import torchvision\n",
        "import torch.nn as nn\n",
        "import torchvision.transforms as transforms\n",
        "import torch.optim as optim\n",
        "import tensorflow.compat.v1 as tf\n",
        "tf.disable_v2_behavior() #Use the v1 compatibility package in 2.0 to follow the 1.x code\n",
        "logger = Logger('./logs')\n",
        "device = torch.device('cuda' if torch.cuda.is_available() else 'cpu')     "
      ],
      "execution_count": 6,
      "outputs": [
        {
          "output_type": "stream",
          "name": "stdout",
          "text": [
            "WARNING:tensorflow:From /usr/local/lib/python3.7/dist-packages/tensorflow/python/compat/v2_compat.py:101: disable_resource_variables (from tensorflow.python.ops.variable_scope) is deprecated and will be removed in a future version.\n",
            "Instructions for updating:\n",
            "non-resource variables are not supported in the long term\n"
          ]
        }
      ]
    },
    {
      "cell_type": "markdown",
      "metadata": {
        "id": "TI6XEXSGyYkh"
      },
      "source": [
        "# Training Loop on CIFAR 10.\n",
        "\n",
        "\n",
        " The model currently does not achieve less than 12% validation error, you have to tweak the parameters to get it."
      ]
    },
    {
      "cell_type": "code",
      "metadata": {
        "id": "AaNQQai_wON0",
        "colab": {
          "base_uri": "https://localhost:8080/",
          "height": 100,
          "referenced_widgets": [
            "b99c2abc93304f629c95d9ea9dcee671",
            "b19b06590a024965b67ffdcf3ad1f5c6",
            "c971b5764d7c40d7805e77c148b4eda1",
            "b9f5fe6174c247f08e6e9709520badff",
            "a049016b8c514743a65bb6afee7be149",
            "bb4363f4b01849a3a3edc5e6724ce6de",
            "a74b60fe4cb249dd8481f898d5f62a49",
            "b5aae1f87c644d98acdd844b16bb3d97",
            "1b50977802074abb908aab1b7dfae862",
            "06c1829e94ee4360b3d4c7c016fb0bb1",
            "4cca1a6a1baf4ace8242a0eaa38b62b4"
          ]
        },
        "outputId": "40bef22f-0a8b-4262-9e82-6a30fc1782d9"
      },
      "source": [
        "# Reading in the dataset\n",
        "transform = transforms.Compose(\n",
        "    [transforms.RandomHorizontalFlip(),\n",
        "    transforms.ToTensor(),\n",
        "    transforms.Normalize((0.5, 0.5, 0.5), (0.5, 0.5, 0.5))],)\n",
        "\n",
        "trainset = torchvision.datasets.CIFAR10(root='./data', train=True,\n",
        "                                        download=True, transform=transform)\n",
        "trainloader = torch.utils.data.DataLoader(trainset, batch_size=16,\n",
        "                                          shuffle=True)\n",
        "\n",
        "testset = torchvision.datasets.CIFAR10(root='./data', train=False,\n",
        "                                       download=True, transform=transform)\n",
        "testloader = torch.utils.data.DataLoader(testset, batch_size=16,\n",
        "                                         shuffle=False)\n",
        "\n",
        "classes = ('plane', 'car', 'bird', 'cat',\n",
        "           'deer', 'dog', 'frog', 'horse', 'ship', 'truck')"
      ],
      "execution_count": 7,
      "outputs": [
        {
          "output_type": "stream",
          "name": "stdout",
          "text": [
            "Downloading https://www.cs.toronto.edu/~kriz/cifar-10-python.tar.gz to ./data/cifar-10-python.tar.gz\n"
          ]
        },
        {
          "output_type": "display_data",
          "data": {
            "application/vnd.jupyter.widget-view+json": {
              "model_id": "b99c2abc93304f629c95d9ea9dcee671",
              "version_minor": 0,
              "version_major": 2
            },
            "text/plain": [
              "  0%|          | 0/170498071 [00:00<?, ?it/s]"
            ]
          },
          "metadata": {}
        },
        {
          "output_type": "stream",
          "name": "stdout",
          "text": [
            "Extracting ./data/cifar-10-python.tar.gz to ./data\n",
            "Files already downloaded and verified\n"
          ]
        }
      ]
    },
    {
      "cell_type": "markdown",
      "metadata": {
        "id": "6VECkTP8srnH"
      },
      "source": [
        "# **Problem(a)**"
      ]
    },
    {
      "cell_type": "code",
      "metadata": {
        "id": "ew8eDzpu1jAS"
      },
      "source": [
        "# Defining the model\n",
        "class View(nn.Module):\n",
        "    def __init__(self,o):\n",
        "        super().__init__()\n",
        "        self.o = o\n",
        "\n",
        "    def forward(self,x):\n",
        "        return x.view(-1, self.o)\n",
        "    \n",
        "class allcnn_t(nn.Module):\n",
        "    def __init__(self, c1=96, c2= 192):\n",
        "        super().__init__()\n",
        "        d = 0.5\n",
        "\n",
        "        def convbn(ci,co,ksz,s=1,pz=0):\n",
        "            return nn.Sequential(\n",
        "                nn.Conv2d(ci,co,ksz,stride=s,padding=pz),\n",
        "                nn.ReLU(True),\n",
        "                nn.BatchNorm2d(co))\n",
        "\n",
        "        self.m = nn.Sequential(\n",
        "            nn.Dropout(0.2),\n",
        "            convbn(3,c1,3,1,1),\n",
        "            convbn(c1,c1,3,1,1),\n",
        "            convbn(c1,c1,3,2,1),\n",
        "            nn.Dropout(d),\n",
        "            convbn(c1,c2,3,1,1),\n",
        "            convbn(c2,c2,3,1,1),\n",
        "            convbn(c2,c2,3,2,1),\n",
        "            nn.Dropout(d),\n",
        "            convbn(c2,c2,3,1,1),\n",
        "            convbn(c2,c2,3,1,1),\n",
        "            convbn(c2,10,1,1),\n",
        "            nn.AvgPool2d(8),\n",
        "            View(10))\n",
        "\n",
        "        print('Num parameters: ', sum([p.numel() for p in self.m.parameters()]))\n",
        "\n",
        "    def forward(self, x):\n",
        "        return self.m(x)\n",
        "\n",
        "# The training loop\n",
        "\n",
        "def train(net, optimizer, criterion, train_loader, test_loader, epochs, model_name, plot):\n",
        "    model = net.to(device)\n",
        "    total_step = len(train_loader)\n",
        "    overall_step = 0\n",
        "    for epoch in range(epochs):\n",
        "        correct = 0\n",
        "        total = 0\n",
        "        \n",
        "        #Learning rate of 0.1 for the first 40 epochs, then 0.01 for the next 40 epochs and then 0.001 for the final 20 epochs.\n",
        "        if (0 <= epoch < 40):\n",
        "          optimizer = optim.SGD(model.parameters(), lr=0.1, momentum=0.9, weight_decay=1e-4)\n",
        "        elif (epoch < 80):\n",
        "          optimizer = optim.SGD(model.parameters(), lr=0.01, momentum=0.9, weight_decay=1e-4)\n",
        "        elif (epoch <= 100):\n",
        "          optimizer = optim.SGD(model.parameters(), lr=0.001, momentum=0.9, weight_decay=1e-4)\n",
        "        \n",
        "        for i, (images, labels) in enumerate(train_loader):\n",
        "            # Move tensors to configured device\n",
        "            images = images.to(device)\n",
        "            labels = labels.to(device)\n",
        "            #Forward Pass\n",
        "            outputs = model(images)\n",
        "            loss = criterion(outputs, labels)\n",
        "            optimizer.zero_grad()\n",
        "            loss.backward()\n",
        "            optimizer.step()\n",
        "\n",
        "            if (i+1) % 1000 == 0:\n",
        "              print ('Epoch [{}/{}], Step [{}/{}], Loss: {:.4f}'.format(epoch+1, epochs, i+1, total_step, loss.item()))\n",
        "            if plot:\n",
        "              info = { ('loss_' + model_name): loss.item() }\n",
        "              for tag, value in info.items():\n",
        "                logger.scalar_summary(tag, value, overall_step+1)\n",
        "\n",
        "        model.eval()\n",
        "        with torch.no_grad():\n",
        "            correct = 0\n",
        "            total = 0\n",
        "            for i, (images, labels) in enumerate(test_loader):\n",
        "                images = images.to(device)\n",
        "                labels = labels.to(device)\n",
        "                outputs = model(images)\n",
        "                _, predicted = torch.max(outputs.data, 1)\n",
        "                total += labels.size(0)\n",
        "                correct += (predicted == labels).sum().item()\n",
        "\n",
        "    print('Accuracy of the network on the test images: {} %'.format(100 * correct / total))"
      ],
      "execution_count": 8,
      "outputs": []
    },
    {
      "cell_type": "markdown",
      "metadata": {
        "id": "e8mYpRqDs6LU"
      },
      "source": [
        "The validation error below 10%"
      ]
    },
    {
      "cell_type": "code",
      "metadata": {
        "colab": {
          "base_uri": "https://localhost:8080/"
        },
        "id": "cJ0jYWLhmwRr",
        "outputId": "07fcf72e-8386-4276-f301-151ad3be2123"
      },
      "source": [
        "model = allcnn_t().to(device)\n",
        "#TODO: Set it as number of epochs states in the question\n",
        "epochs = 100\n",
        "# TODO: Define the loss function as asked in the question\n",
        "criterion = nn.CrossEntropyLoss()\n",
        "# TODO: Set parameters as stated in the question\n",
        "optimizer = optim.SGD(model.parameters(), lr=0.1, momentum=0.9, weight_decay=1e-4)\n",
        "# Training loop called here\n",
        "train(model, optimizer, criterion, trainloader, testloader, epochs, 'cnn', True)"
      ],
      "execution_count": null,
      "outputs": [
        {
          "output_type": "stream",
          "name": "stdout",
          "text": [
            "Num parameters:  1667166\n",
            "Epoch [1/100], Step [1000/3125], Loss: 1.6261\n",
            "Epoch [1/100], Step [2000/3125], Loss: 1.7529\n",
            "Epoch [1/100], Step [3000/3125], Loss: 2.0723\n",
            "Epoch [2/100], Step [1000/3125], Loss: 1.1904\n",
            "Epoch [2/100], Step [2000/3125], Loss: 0.9193\n",
            "Epoch [2/100], Step [3000/3125], Loss: 1.2091\n",
            "Epoch [3/100], Step [1000/3125], Loss: 1.0505\n",
            "Epoch [3/100], Step [2000/3125], Loss: 0.7018\n",
            "Epoch [3/100], Step [3000/3125], Loss: 0.7726\n",
            "Epoch [4/100], Step [1000/3125], Loss: 1.4858\n",
            "Epoch [4/100], Step [2000/3125], Loss: 1.2573\n",
            "Epoch [4/100], Step [3000/3125], Loss: 0.9117\n",
            "Epoch [5/100], Step [1000/3125], Loss: 1.3506\n",
            "Epoch [5/100], Step [2000/3125], Loss: 0.4374\n",
            "Epoch [5/100], Step [3000/3125], Loss: 0.3397\n",
            "Epoch [6/100], Step [1000/3125], Loss: 0.5020\n",
            "Epoch [6/100], Step [2000/3125], Loss: 0.7247\n",
            "Epoch [6/100], Step [3000/3125], Loss: 0.5926\n",
            "Epoch [7/100], Step [1000/3125], Loss: 0.3005\n",
            "Epoch [7/100], Step [2000/3125], Loss: 0.4931\n",
            "Epoch [7/100], Step [3000/3125], Loss: 0.8924\n",
            "Epoch [8/100], Step [1000/3125], Loss: 0.4036\n",
            "Epoch [8/100], Step [2000/3125], Loss: 0.4836\n",
            "Epoch [8/100], Step [3000/3125], Loss: 0.9915\n",
            "Epoch [9/100], Step [1000/3125], Loss: 0.5775\n",
            "Epoch [9/100], Step [2000/3125], Loss: 0.4058\n",
            "Epoch [9/100], Step [3000/3125], Loss: 0.4047\n",
            "Epoch [10/100], Step [1000/3125], Loss: 0.7793\n",
            "Epoch [10/100], Step [2000/3125], Loss: 0.4585\n",
            "Epoch [10/100], Step [3000/3125], Loss: 0.6842\n",
            "Epoch [11/100], Step [1000/3125], Loss: 0.4501\n",
            "Epoch [11/100], Step [2000/3125], Loss: 0.6276\n",
            "Epoch [11/100], Step [3000/3125], Loss: 0.4262\n",
            "Epoch [12/100], Step [1000/3125], Loss: 1.0562\n",
            "Epoch [12/100], Step [2000/3125], Loss: 0.3905\n",
            "Epoch [12/100], Step [3000/3125], Loss: 0.5870\n",
            "Epoch [13/100], Step [1000/3125], Loss: 0.3548\n",
            "Epoch [13/100], Step [2000/3125], Loss: 0.5735\n",
            "Epoch [13/100], Step [3000/3125], Loss: 0.1318\n",
            "Epoch [14/100], Step [1000/3125], Loss: 1.0114\n",
            "Epoch [14/100], Step [2000/3125], Loss: 0.4116\n",
            "Epoch [14/100], Step [3000/3125], Loss: 0.5300\n",
            "Epoch [15/100], Step [1000/3125], Loss: 0.2012\n",
            "Epoch [15/100], Step [2000/3125], Loss: 0.2913\n",
            "Epoch [15/100], Step [3000/3125], Loss: 0.8839\n",
            "Epoch [16/100], Step [1000/3125], Loss: 0.2150\n",
            "Epoch [16/100], Step [2000/3125], Loss: 0.1599\n",
            "Epoch [16/100], Step [3000/3125], Loss: 0.4571\n",
            "Epoch [17/100], Step [1000/3125], Loss: 0.7209\n",
            "Epoch [17/100], Step [2000/3125], Loss: 0.4887\n",
            "Epoch [17/100], Step [3000/3125], Loss: 0.0786\n",
            "Epoch [18/100], Step [1000/3125], Loss: 0.2041\n",
            "Epoch [18/100], Step [2000/3125], Loss: 0.8261\n",
            "Epoch [18/100], Step [3000/3125], Loss: 0.2245\n",
            "Epoch [19/100], Step [1000/3125], Loss: 0.5385\n",
            "Epoch [19/100], Step [2000/3125], Loss: 0.2052\n",
            "Epoch [19/100], Step [3000/3125], Loss: 0.4328\n",
            "Epoch [20/100], Step [1000/3125], Loss: 0.5401\n",
            "Epoch [20/100], Step [2000/3125], Loss: 0.5646\n",
            "Epoch [20/100], Step [3000/3125], Loss: 0.3453\n",
            "Epoch [21/100], Step [1000/3125], Loss: 0.5866\n",
            "Epoch [21/100], Step [2000/3125], Loss: 0.5323\n",
            "Epoch [21/100], Step [3000/3125], Loss: 0.5145\n",
            "Epoch [22/100], Step [1000/3125], Loss: 0.2690\n",
            "Epoch [22/100], Step [2000/3125], Loss: 0.2037\n",
            "Epoch [22/100], Step [3000/3125], Loss: 0.4352\n",
            "Epoch [23/100], Step [1000/3125], Loss: 0.9249\n",
            "Epoch [23/100], Step [2000/3125], Loss: 0.3811\n",
            "Epoch [23/100], Step [3000/3125], Loss: 0.9085\n",
            "Epoch [24/100], Step [1000/3125], Loss: 0.7792\n",
            "Epoch [24/100], Step [2000/3125], Loss: 1.1532\n",
            "Epoch [24/100], Step [3000/3125], Loss: 0.3405\n",
            "Epoch [25/100], Step [1000/3125], Loss: 0.1490\n",
            "Epoch [25/100], Step [2000/3125], Loss: 0.1416\n",
            "Epoch [25/100], Step [3000/3125], Loss: 0.3535\n",
            "Epoch [26/100], Step [1000/3125], Loss: 0.1745\n",
            "Epoch [26/100], Step [2000/3125], Loss: 0.5093\n",
            "Epoch [26/100], Step [3000/3125], Loss: 0.1657\n",
            "Epoch [27/100], Step [1000/3125], Loss: 0.4303\n",
            "Epoch [27/100], Step [2000/3125], Loss: 0.4951\n",
            "Epoch [27/100], Step [3000/3125], Loss: 0.4795\n",
            "Epoch [28/100], Step [1000/3125], Loss: 0.1778\n",
            "Epoch [28/100], Step [2000/3125], Loss: 0.1736\n",
            "Epoch [28/100], Step [3000/3125], Loss: 0.3371\n",
            "Epoch [29/100], Step [1000/3125], Loss: 0.5559\n",
            "Epoch [29/100], Step [2000/3125], Loss: 0.9720\n",
            "Epoch [29/100], Step [3000/3125], Loss: 0.3747\n",
            "Epoch [30/100], Step [1000/3125], Loss: 0.5579\n",
            "Epoch [30/100], Step [2000/3125], Loss: 0.1575\n",
            "Epoch [30/100], Step [3000/3125], Loss: 0.4168\n",
            "Epoch [31/100], Step [1000/3125], Loss: 0.8653\n",
            "Epoch [31/100], Step [2000/3125], Loss: 0.9729\n",
            "Epoch [31/100], Step [3000/3125], Loss: 0.3683\n",
            "Epoch [32/100], Step [1000/3125], Loss: 0.4251\n",
            "Epoch [32/100], Step [2000/3125], Loss: 0.3196\n",
            "Epoch [32/100], Step [3000/3125], Loss: 0.4986\n",
            "Epoch [33/100], Step [1000/3125], Loss: 0.1854\n",
            "Epoch [33/100], Step [2000/3125], Loss: 0.5653\n",
            "Epoch [33/100], Step [3000/3125], Loss: 0.3409\n",
            "Epoch [34/100], Step [1000/3125], Loss: 0.6909\n",
            "Epoch [34/100], Step [2000/3125], Loss: 0.5434\n",
            "Epoch [34/100], Step [3000/3125], Loss: 0.1708\n",
            "Epoch [35/100], Step [1000/3125], Loss: 0.4431\n",
            "Epoch [35/100], Step [2000/3125], Loss: 0.6376\n",
            "Epoch [35/100], Step [3000/3125], Loss: 0.2363\n",
            "Epoch [36/100], Step [1000/3125], Loss: 0.5015\n",
            "Epoch [36/100], Step [2000/3125], Loss: 0.2813\n",
            "Epoch [36/100], Step [3000/3125], Loss: 0.3780\n",
            "Epoch [37/100], Step [1000/3125], Loss: 0.9902\n",
            "Epoch [37/100], Step [2000/3125], Loss: 0.6835\n",
            "Epoch [37/100], Step [3000/3125], Loss: 0.6668\n",
            "Epoch [38/100], Step [1000/3125], Loss: 0.3588\n",
            "Epoch [38/100], Step [2000/3125], Loss: 0.3552\n",
            "Epoch [38/100], Step [3000/3125], Loss: 0.2147\n",
            "Epoch [39/100], Step [1000/3125], Loss: 0.3477\n",
            "Epoch [39/100], Step [2000/3125], Loss: 0.0646\n",
            "Epoch [39/100], Step [3000/3125], Loss: 0.6845\n",
            "Epoch [40/100], Step [1000/3125], Loss: 0.8941\n",
            "Epoch [40/100], Step [2000/3125], Loss: 0.5651\n",
            "Epoch [40/100], Step [3000/3125], Loss: 0.2743\n",
            "Epoch [41/100], Step [1000/3125], Loss: 0.0166\n",
            "Epoch [41/100], Step [2000/3125], Loss: 0.3050\n",
            "Epoch [41/100], Step [3000/3125], Loss: 0.0185\n",
            "Epoch [42/100], Step [1000/3125], Loss: 0.0701\n",
            "Epoch [42/100], Step [2000/3125], Loss: 0.0934\n",
            "Epoch [42/100], Step [3000/3125], Loss: 0.2556\n",
            "Epoch [43/100], Step [1000/3125], Loss: 0.0584\n",
            "Epoch [43/100], Step [2000/3125], Loss: 0.0704\n",
            "Epoch [43/100], Step [3000/3125], Loss: 0.0175\n",
            "Epoch [44/100], Step [1000/3125], Loss: 0.0055\n",
            "Epoch [44/100], Step [2000/3125], Loss: 0.0793\n",
            "Epoch [44/100], Step [3000/3125], Loss: 0.1456\n",
            "Epoch [45/100], Step [1000/3125], Loss: 0.1171\n",
            "Epoch [45/100], Step [2000/3125], Loss: 0.0133\n",
            "Epoch [45/100], Step [3000/3125], Loss: 0.0423\n",
            "Epoch [46/100], Step [1000/3125], Loss: 0.1382\n",
            "Epoch [46/100], Step [2000/3125], Loss: 0.0651\n",
            "Epoch [46/100], Step [3000/3125], Loss: 0.0236\n",
            "Epoch [47/100], Step [1000/3125], Loss: 0.0889\n",
            "Epoch [47/100], Step [2000/3125], Loss: 0.0252\n",
            "Epoch [47/100], Step [3000/3125], Loss: 0.0466\n",
            "Epoch [48/100], Step [1000/3125], Loss: 0.0196\n",
            "Epoch [48/100], Step [2000/3125], Loss: 0.0324\n",
            "Epoch [48/100], Step [3000/3125], Loss: 0.0587\n",
            "Epoch [49/100], Step [1000/3125], Loss: 0.0027\n",
            "Epoch [49/100], Step [2000/3125], Loss: 0.0030\n",
            "Epoch [49/100], Step [3000/3125], Loss: 0.0296\n",
            "Epoch [50/100], Step [1000/3125], Loss: 0.0046\n",
            "Epoch [50/100], Step [2000/3125], Loss: 0.0018\n",
            "Epoch [50/100], Step [3000/3125], Loss: 0.0125\n",
            "Epoch [51/100], Step [1000/3125], Loss: 0.0192\n",
            "Epoch [51/100], Step [2000/3125], Loss: 0.0050\n",
            "Epoch [51/100], Step [3000/3125], Loss: 0.0292\n",
            "Epoch [52/100], Step [1000/3125], Loss: 0.0049\n",
            "Epoch [52/100], Step [2000/3125], Loss: 0.0409\n",
            "Epoch [52/100], Step [3000/3125], Loss: 0.0071\n",
            "Epoch [53/100], Step [1000/3125], Loss: 0.0044\n",
            "Epoch [53/100], Step [2000/3125], Loss: 0.0307\n",
            "Epoch [53/100], Step [3000/3125], Loss: 0.0099\n",
            "Epoch [54/100], Step [1000/3125], Loss: 0.0059\n",
            "Epoch [54/100], Step [2000/3125], Loss: 0.0044\n",
            "Epoch [54/100], Step [3000/3125], Loss: 0.0046\n",
            "Epoch [55/100], Step [1000/3125], Loss: 0.0010\n",
            "Epoch [55/100], Step [2000/3125], Loss: 0.0045\n",
            "Epoch [55/100], Step [3000/3125], Loss: 0.0025\n",
            "Epoch [56/100], Step [1000/3125], Loss: 0.0040\n",
            "Epoch [56/100], Step [2000/3125], Loss: 0.0173\n",
            "Epoch [56/100], Step [3000/3125], Loss: 0.0051\n",
            "Epoch [57/100], Step [1000/3125], Loss: 0.0064\n",
            "Epoch [57/100], Step [2000/3125], Loss: 0.0048\n",
            "Epoch [57/100], Step [3000/3125], Loss: 0.0724\n",
            "Epoch [58/100], Step [1000/3125], Loss: 0.0048\n",
            "Epoch [58/100], Step [2000/3125], Loss: 0.0047\n",
            "Epoch [58/100], Step [3000/3125], Loss: 0.0153\n",
            "Epoch [59/100], Step [1000/3125], Loss: 0.0280\n",
            "Epoch [59/100], Step [2000/3125], Loss: 0.0513\n",
            "Epoch [59/100], Step [3000/3125], Loss: 0.0003\n",
            "Epoch [60/100], Step [1000/3125], Loss: 0.0005\n",
            "Epoch [60/100], Step [2000/3125], Loss: 0.0002\n",
            "Epoch [60/100], Step [3000/3125], Loss: 0.0133\n",
            "Epoch [61/100], Step [1000/3125], Loss: 0.0058\n",
            "Epoch [61/100], Step [2000/3125], Loss: 0.0124\n",
            "Epoch [61/100], Step [3000/3125], Loss: 0.1105\n",
            "Epoch [62/100], Step [1000/3125], Loss: 0.0063\n",
            "Epoch [62/100], Step [2000/3125], Loss: 0.0103\n",
            "Epoch [62/100], Step [3000/3125], Loss: 0.0079\n",
            "Epoch [63/100], Step [1000/3125], Loss: 0.0156\n",
            "Epoch [63/100], Step [2000/3125], Loss: 0.0089\n",
            "Epoch [63/100], Step [3000/3125], Loss: 0.0200\n",
            "Epoch [64/100], Step [1000/3125], Loss: 0.0123\n",
            "Epoch [64/100], Step [2000/3125], Loss: 0.0004\n",
            "Epoch [64/100], Step [3000/3125], Loss: 0.0100\n",
            "Epoch [65/100], Step [1000/3125], Loss: 0.0560\n",
            "Epoch [65/100], Step [2000/3125], Loss: 0.1351\n",
            "Epoch [65/100], Step [3000/3125], Loss: 0.0035\n",
            "Epoch [66/100], Step [1000/3125], Loss: 0.0050\n",
            "Epoch [66/100], Step [2000/3125], Loss: 0.0018\n",
            "Epoch [66/100], Step [3000/3125], Loss: 0.0094\n",
            "Epoch [67/100], Step [1000/3125], Loss: 0.0162\n",
            "Epoch [67/100], Step [2000/3125], Loss: 0.0009\n",
            "Epoch [67/100], Step [3000/3125], Loss: 0.2488\n",
            "Epoch [68/100], Step [1000/3125], Loss: 0.0127\n",
            "Epoch [68/100], Step [2000/3125], Loss: 0.2767\n",
            "Epoch [68/100], Step [3000/3125], Loss: 0.0457\n",
            "Epoch [69/100], Step [1000/3125], Loss: 0.0024\n",
            "Epoch [69/100], Step [2000/3125], Loss: 0.0042\n",
            "Epoch [69/100], Step [3000/3125], Loss: 0.0049\n",
            "Epoch [70/100], Step [1000/3125], Loss: 0.0378\n",
            "Epoch [70/100], Step [2000/3125], Loss: 0.0030\n",
            "Epoch [70/100], Step [3000/3125], Loss: 0.0323\n",
            "Epoch [71/100], Step [1000/3125], Loss: 0.0176\n",
            "Epoch [71/100], Step [2000/3125], Loss: 0.0097\n",
            "Epoch [71/100], Step [3000/3125], Loss: 0.0045\n",
            "Epoch [72/100], Step [1000/3125], Loss: 0.0007\n",
            "Epoch [72/100], Step [2000/3125], Loss: 0.0024\n",
            "Epoch [72/100], Step [3000/3125], Loss: 0.0070\n",
            "Epoch [73/100], Step [1000/3125], Loss: 0.0015\n",
            "Epoch [73/100], Step [2000/3125], Loss: 0.2166\n",
            "Epoch [73/100], Step [3000/3125], Loss: 0.0014\n",
            "Epoch [74/100], Step [1000/3125], Loss: 0.0101\n",
            "Epoch [74/100], Step [2000/3125], Loss: 0.0131\n",
            "Epoch [74/100], Step [3000/3125], Loss: 0.0267\n",
            "Epoch [75/100], Step [1000/3125], Loss: 0.0032\n",
            "Epoch [75/100], Step [2000/3125], Loss: 0.0387\n",
            "Epoch [75/100], Step [3000/3125], Loss: 0.0220\n",
            "Epoch [76/100], Step [1000/3125], Loss: 0.0092\n",
            "Epoch [76/100], Step [2000/3125], Loss: 0.0095\n",
            "Epoch [76/100], Step [3000/3125], Loss: 0.0104\n",
            "Epoch [77/100], Step [1000/3125], Loss: 0.0035\n",
            "Epoch [77/100], Step [2000/3125], Loss: 0.0432\n",
            "Epoch [77/100], Step [3000/3125], Loss: 0.0084\n",
            "Epoch [78/100], Step [1000/3125], Loss: 0.0039\n",
            "Epoch [78/100], Step [2000/3125], Loss: 0.1643\n",
            "Epoch [78/100], Step [3000/3125], Loss: 0.0029\n",
            "Epoch [79/100], Step [1000/3125], Loss: 0.0224\n",
            "Epoch [79/100], Step [2000/3125], Loss: 0.0632\n",
            "Epoch [79/100], Step [3000/3125], Loss: 0.0108\n",
            "Epoch [80/100], Step [1000/3125], Loss: 0.0298\n",
            "Epoch [80/100], Step [2000/3125], Loss: 0.0170\n",
            "Epoch [80/100], Step [3000/3125], Loss: 0.0049\n",
            "Epoch [81/100], Step [1000/3125], Loss: 0.0091\n",
            "Epoch [81/100], Step [2000/3125], Loss: 0.0018\n",
            "Epoch [81/100], Step [3000/3125], Loss: 0.0081\n",
            "Epoch [82/100], Step [1000/3125], Loss: 0.0078\n",
            "Epoch [82/100], Step [2000/3125], Loss: 0.0211\n",
            "Epoch [82/100], Step [3000/3125], Loss: 0.0016\n",
            "Epoch [83/100], Step [1000/3125], Loss: 0.0016\n",
            "Epoch [83/100], Step [2000/3125], Loss: 0.0128\n",
            "Epoch [83/100], Step [3000/3125], Loss: 0.0055\n",
            "Epoch [84/100], Step [1000/3125], Loss: 0.0022\n",
            "Epoch [84/100], Step [2000/3125], Loss: 0.0011\n",
            "Epoch [84/100], Step [3000/3125], Loss: 0.0127\n",
            "Epoch [85/100], Step [1000/3125], Loss: 0.0011\n",
            "Epoch [85/100], Step [2000/3125], Loss: 0.0023\n",
            "Epoch [85/100], Step [3000/3125], Loss: 0.0197\n",
            "Epoch [86/100], Step [1000/3125], Loss: 0.0014\n",
            "Epoch [86/100], Step [2000/3125], Loss: 0.0003\n",
            "Epoch [86/100], Step [3000/3125], Loss: 0.0001\n",
            "Epoch [87/100], Step [1000/3125], Loss: 0.0022\n",
            "Epoch [87/100], Step [2000/3125], Loss: 0.0015\n",
            "Epoch [87/100], Step [3000/3125], Loss: 0.0005\n",
            "Epoch [88/100], Step [1000/3125], Loss: 0.0046\n",
            "Epoch [88/100], Step [2000/3125], Loss: 0.0069\n",
            "Epoch [88/100], Step [3000/3125], Loss: 0.0011\n",
            "Epoch [89/100], Step [1000/3125], Loss: 0.0101\n",
            "Epoch [89/100], Step [2000/3125], Loss: 0.0071\n",
            "Epoch [89/100], Step [3000/3125], Loss: 0.0030\n",
            "Epoch [90/100], Step [1000/3125], Loss: 0.0005\n",
            "Epoch [90/100], Step [2000/3125], Loss: 0.0024\n",
            "Epoch [90/100], Step [3000/3125], Loss: 0.0069\n",
            "Epoch [91/100], Step [1000/3125], Loss: 0.0020\n",
            "Epoch [91/100], Step [2000/3125], Loss: 0.0033\n",
            "Epoch [91/100], Step [3000/3125], Loss: 0.0020\n",
            "Epoch [92/100], Step [1000/3125], Loss: 0.0119\n",
            "Epoch [92/100], Step [2000/3125], Loss: 0.0049\n",
            "Epoch [92/100], Step [3000/3125], Loss: 0.0013\n",
            "Epoch [93/100], Step [1000/3125], Loss: 0.0101\n",
            "Epoch [93/100], Step [2000/3125], Loss: 0.0038\n",
            "Epoch [93/100], Step [3000/3125], Loss: 0.0013\n",
            "Epoch [94/100], Step [1000/3125], Loss: 0.0040\n",
            "Epoch [94/100], Step [2000/3125], Loss: 0.0055\n",
            "Epoch [94/100], Step [3000/3125], Loss: 0.0022\n",
            "Epoch [95/100], Step [1000/3125], Loss: 0.0043\n",
            "Epoch [95/100], Step [2000/3125], Loss: 0.0014\n",
            "Epoch [95/100], Step [3000/3125], Loss: 0.0040\n",
            "Epoch [96/100], Step [1000/3125], Loss: 0.0148\n",
            "Epoch [96/100], Step [2000/3125], Loss: 0.0071\n",
            "Epoch [96/100], Step [3000/3125], Loss: 0.0044\n",
            "Epoch [97/100], Step [1000/3125], Loss: 0.0005\n",
            "Epoch [97/100], Step [2000/3125], Loss: 0.0015\n",
            "Epoch [97/100], Step [3000/3125], Loss: 0.0024\n",
            "Epoch [98/100], Step [1000/3125], Loss: 0.0006\n",
            "Epoch [98/100], Step [2000/3125], Loss: 0.0019\n",
            "Epoch [98/100], Step [3000/3125], Loss: 0.0302\n",
            "Epoch [99/100], Step [1000/3125], Loss: 0.0050\n",
            "Epoch [99/100], Step [2000/3125], Loss: 0.0020\n",
            "Epoch [99/100], Step [3000/3125], Loss: 0.0089\n",
            "Epoch [100/100], Step [1000/3125], Loss: 0.0126\n",
            "Epoch [100/100], Step [2000/3125], Loss: 0.0103\n",
            "Epoch [100/100], Step [3000/3125], Loss: 0.0045\n",
            "Accuracy of the network on the test images: 90.98 %\n"
          ]
        }
      ]
    },
    {
      "cell_type": "markdown",
      "metadata": {
        "id": "UxMLVn-jtLDb"
      },
      "source": [
        "Plot the training and validation losses and errors as a function of the number of epochs."
      ]
    },
    {
      "cell_type": "code",
      "metadata": {
        "id": "PK9wzYGChUiM"
      },
      "source": [
        "#define a training function of ploting\n",
        "def train_for_plot(net, criterion, train_loader, test_loader, epochs, model_name, plot):\n",
        "    model = net.to(device)\n",
        "    total_step = len(train_loader)\n",
        "    overall_step = 0\n",
        "    train_loss = []\n",
        "    val_loss = []\n",
        "    train_error = []\n",
        "    val_error = []\n",
        "    ep = []\n",
        "    for epoch in range(epochs):\n",
        "        ep.append(epoch+1)\n",
        "        correct = 0\n",
        "        total = 0\n",
        "        total_loss_t = 0\n",
        "        total_error_t = 0\n",
        "        #Learning rate of 0.1 for the first 40 epochs, then 0.01 for the next 40 epochs and then 0.001 for the final 20 epochs.\n",
        "        if (0 <= epoch < 40):\n",
        "          optimizer = optim.SGD(model.parameters(), lr=0.1, momentum=0.9, weight_decay=1e-4)\n",
        "        elif (epoch < 80):\n",
        "          optimizer = optim.SGD(model.parameters(), lr=0.01, momentum=0.9, weight_decay=1e-4)\n",
        "        elif (epoch <= 100):\n",
        "          optimizer = optim.SGD(model.parameters(), lr=0.001, momentum=0.9, weight_decay=1e-4)\n",
        "        for i, (images, labels) in enumerate(train_loader):\n",
        "            # Move tensors to configured device\n",
        "            images = images.to(device)\n",
        "            labels = labels.to(device)\n",
        "            #Forward Pass\n",
        "            outputs = model(images)\n",
        "            loss = criterion(outputs, labels)\n",
        "            _, predicted = torch.max(outputs.data, 1)\n",
        "            optimizer.zero_grad()\n",
        "            loss.backward()\n",
        "            optimizer.step()\n",
        "            if (i+1) % 1000 == 0:\n",
        "              print ('Epoch [{}/{}], Step [{}/{}], Loss: {:.4f}'.format(epoch+1, epochs, i+1, total_step, loss.item()))\n",
        "            if plot:\n",
        "              info = { ('loss_' + model_name): loss.item() }\n",
        "              for tag, value in info.items():\n",
        "                logger.scalar_summary(tag, value, overall_step+1)\n",
        "\n",
        "            total += labels.size(0)\n",
        "            total_loss_t += loss.item()\n",
        "            total_error_t += (predicted != labels).sum().item()\n",
        "        train_loss.append(total_loss_t)\n",
        "        train_error.append(total_error_t/total*100)\n",
        "\n",
        "        model.eval()\n",
        "        with torch.no_grad():\n",
        "            correct = 0\n",
        "            total = 0\n",
        "            total_loss_v = 0\n",
        "            total_error_v = 0\n",
        "            for i, (images, labels) in enumerate(test_loader):\n",
        "                images = images.to(device)\n",
        "                labels = labels.to(device)\n",
        "                outputs = model(images)\n",
        "                loss = criterion(outputs, labels)\n",
        "                _, predicted = torch.max(outputs.data, 1)\n",
        "                total += labels.size(0)\n",
        "                correct += (predicted == labels).sum().item()\n",
        "\n",
        "                total_loss_v += loss.item()\n",
        "                total_error_v += (predicted != labels).sum().item()\n",
        "            val_loss.append(total_loss_v)\n",
        "            val_error.append(total_error_v/total*100)\n",
        "\n",
        "    print('Accuracy of the network on the test images: {} %'.format(100 * correct / total))\n",
        "    return train_loss, val_loss, train_error, val_error, ep"
      ],
      "execution_count": 13,
      "outputs": []
    },
    {
      "cell_type": "markdown",
      "metadata": {
        "id": "bNIy1ENmtbdE"
      },
      "source": [
        "Using 25 epoches to plot."
      ]
    },
    {
      "cell_type": "code",
      "metadata": {
        "colab": {
          "base_uri": "https://localhost:8080/"
        },
        "id": "OvJoEi6xpo8Q",
        "outputId": "e89d2cc5-bcb4-493b-fbeb-5cec77011244"
      },
      "source": [
        "model = allcnn_t().to(device)\n",
        "epochs = 25\n",
        "criterion = nn.CrossEntropyLoss()"
      ],
      "execution_count": 28,
      "outputs": [
        {
          "output_type": "stream",
          "name": "stdout",
          "text": [
            "Num parameters:  1667166\n"
          ]
        }
      ]
    },
    {
      "cell_type": "code",
      "metadata": {
        "colab": {
          "base_uri": "https://localhost:8080/"
        },
        "id": "AKFV1PlRptQY",
        "outputId": "7abed5e7-a829-4722-c78b-8c360a77fadc"
      },
      "source": [
        "#using to plot\n",
        "train_loss, val_loss, train_error, val_error, ep = train_for_plot(model, criterion, trainloader, testloader, epochs, 'cnn', True)"
      ],
      "execution_count": 29,
      "outputs": [
        {
          "output_type": "stream",
          "name": "stdout",
          "text": [
            "Epoch [1/25], Step [1000/3125], Loss: 1.5512\n",
            "Epoch [1/25], Step [2000/3125], Loss: 1.4096\n",
            "Epoch [1/25], Step [3000/3125], Loss: 1.2429\n",
            "Epoch [2/25], Step [1000/3125], Loss: 1.1471\n",
            "Epoch [2/25], Step [2000/3125], Loss: 1.1909\n",
            "Epoch [2/25], Step [3000/3125], Loss: 0.8490\n",
            "Epoch [3/25], Step [1000/3125], Loss: 0.9430\n",
            "Epoch [3/25], Step [2000/3125], Loss: 1.1152\n",
            "Epoch [3/25], Step [3000/3125], Loss: 1.2824\n",
            "Epoch [4/25], Step [1000/3125], Loss: 1.1282\n",
            "Epoch [4/25], Step [2000/3125], Loss: 0.6656\n",
            "Epoch [4/25], Step [3000/3125], Loss: 0.4334\n",
            "Epoch [5/25], Step [1000/3125], Loss: 0.4997\n",
            "Epoch [5/25], Step [2000/3125], Loss: 0.4362\n",
            "Epoch [5/25], Step [3000/3125], Loss: 0.5105\n",
            "Epoch [6/25], Step [1000/3125], Loss: 0.8612\n",
            "Epoch [6/25], Step [2000/3125], Loss: 1.1902\n",
            "Epoch [6/25], Step [3000/3125], Loss: 0.7797\n",
            "Epoch [7/25], Step [1000/3125], Loss: 0.4895\n",
            "Epoch [7/25], Step [2000/3125], Loss: 0.7134\n",
            "Epoch [7/25], Step [3000/3125], Loss: 0.6674\n",
            "Epoch [8/25], Step [1000/3125], Loss: 0.4165\n",
            "Epoch [8/25], Step [2000/3125], Loss: 1.1964\n",
            "Epoch [8/25], Step [3000/3125], Loss: 0.3177\n",
            "Epoch [9/25], Step [1000/3125], Loss: 0.2883\n",
            "Epoch [9/25], Step [2000/3125], Loss: 0.4236\n",
            "Epoch [9/25], Step [3000/3125], Loss: 0.5449\n",
            "Epoch [10/25], Step [1000/3125], Loss: 0.7269\n",
            "Epoch [10/25], Step [2000/3125], Loss: 0.5549\n",
            "Epoch [10/25], Step [3000/3125], Loss: 0.6073\n",
            "Epoch [11/25], Step [1000/3125], Loss: 0.4422\n",
            "Epoch [11/25], Step [2000/3125], Loss: 0.7177\n",
            "Epoch [11/25], Step [3000/3125], Loss: 0.1355\n",
            "Epoch [12/25], Step [1000/3125], Loss: 0.2587\n",
            "Epoch [12/25], Step [2000/3125], Loss: 0.5035\n",
            "Epoch [12/25], Step [3000/3125], Loss: 0.6979\n",
            "Epoch [13/25], Step [1000/3125], Loss: 0.0877\n",
            "Epoch [13/25], Step [2000/3125], Loss: 0.8927\n",
            "Epoch [13/25], Step [3000/3125], Loss: 0.3223\n",
            "Epoch [14/25], Step [1000/3125], Loss: 0.6403\n",
            "Epoch [14/25], Step [2000/3125], Loss: 0.4276\n",
            "Epoch [14/25], Step [3000/3125], Loss: 0.3062\n",
            "Epoch [15/25], Step [1000/3125], Loss: 0.3083\n",
            "Epoch [15/25], Step [2000/3125], Loss: 1.0020\n",
            "Epoch [15/25], Step [3000/3125], Loss: 0.6908\n",
            "Epoch [16/25], Step [1000/3125], Loss: 0.5724\n",
            "Epoch [16/25], Step [2000/3125], Loss: 0.5837\n",
            "Epoch [16/25], Step [3000/3125], Loss: 0.1689\n",
            "Epoch [17/25], Step [1000/3125], Loss: 0.8250\n",
            "Epoch [17/25], Step [2000/3125], Loss: 0.5438\n",
            "Epoch [17/25], Step [3000/3125], Loss: 0.9887\n",
            "Epoch [18/25], Step [1000/3125], Loss: 0.5000\n",
            "Epoch [18/25], Step [2000/3125], Loss: 0.1457\n",
            "Epoch [18/25], Step [3000/3125], Loss: 1.2465\n",
            "Epoch [19/25], Step [1000/3125], Loss: 0.7153\n",
            "Epoch [19/25], Step [2000/3125], Loss: 0.1854\n",
            "Epoch [19/25], Step [3000/3125], Loss: 0.2932\n",
            "Epoch [20/25], Step [1000/3125], Loss: 0.4322\n",
            "Epoch [20/25], Step [2000/3125], Loss: 0.5022\n",
            "Epoch [20/25], Step [3000/3125], Loss: 0.4706\n",
            "Epoch [21/25], Step [1000/3125], Loss: 0.3817\n",
            "Epoch [21/25], Step [2000/3125], Loss: 0.2993\n",
            "Epoch [21/25], Step [3000/3125], Loss: 0.8813\n",
            "Epoch [22/25], Step [1000/3125], Loss: 0.5139\n",
            "Epoch [22/25], Step [2000/3125], Loss: 0.2828\n",
            "Epoch [22/25], Step [3000/3125], Loss: 0.3643\n",
            "Epoch [23/25], Step [1000/3125], Loss: 0.1858\n",
            "Epoch [23/25], Step [2000/3125], Loss: 0.6405\n",
            "Epoch [23/25], Step [3000/3125], Loss: 0.5279\n",
            "Epoch [24/25], Step [1000/3125], Loss: 0.6047\n",
            "Epoch [24/25], Step [2000/3125], Loss: 0.1557\n",
            "Epoch [24/25], Step [3000/3125], Loss: 0.5009\n",
            "Epoch [25/25], Step [1000/3125], Loss: 0.4399\n",
            "Epoch [25/25], Step [2000/3125], Loss: 0.9079\n",
            "Epoch [25/25], Step [3000/3125], Loss: 0.7342\n",
            "Accuracy of the network on the test images: 83.38 %\n"
          ]
        }
      ]
    },
    {
      "cell_type": "code",
      "metadata": {
        "id": "7uhlnH1ogMP1",
        "colab": {
          "base_uri": "https://localhost:8080/",
          "height": 573
        },
        "outputId": "e4684575-8104-418f-cd25-47fb66c9d749"
      },
      "source": [
        "#plot the image\n",
        "plt.plot(ep, train_loss, 'r', label='train loss')\n",
        "plt.plot(ep, val_loss, 'b', label='validation loss')\n",
        "plt.title('Train and Validation loss')\n",
        "plt.xlabel('epoch')\n",
        "plt.ylabel('loss %')\n",
        "plt.show()\n",
        "\n",
        "plt.plot(ep, train_error, 'r', label='train error')\n",
        "plt.plot(ep, val_error, 'b', label='validation error')\n",
        "plt.title('Train and Validation error')\n",
        "plt.xlabel('epoch')\n",
        "plt.ylabel('error %')\n",
        "plt.show()"
      ],
      "execution_count": 30,
      "outputs": [
        {
          "output_type": "display_data",
          "data": {
            "image/png": "[encoded data removed]",
            "text/plain": [
              "<Figure size 432x288 with 1 Axes>"
            ]
          },
          "metadata": {
            "needs_background": "light"
          }
        },
        {
          "output_type": "display_data",
          "data": {
            "image/png": "[encoded data removed]",
            "text/plain": [
              "<Figure size 432x288 with 1 Axes>"
            ]
          },
          "metadata": {
            "needs_background": "light"
          }
        }
      ]
    },
    {
      "cell_type": "code",
      "metadata": {
        "colab": {
          "base_uri": "https://localhost:8080/"
        },
        "id": "sSm4IiOLgntX",
        "outputId": "5687a896-3cc9-427a-975b-e67c54ba50c1"
      },
      "source": [
        "torch.save(model.state_dict(), \"model.pth\")\n",
        "print(\"Saved PyTorch Model State to model.pth\")"
      ],
      "execution_count": 31,
      "outputs": [
        {
          "output_type": "stream",
          "name": "stdout",
          "text": [
            "Saved PyTorch Model State to model.pth\n"
          ]
        }
      ]
    },
    {
      "cell_type": "code",
      "metadata": {
        "colab": {
          "base_uri": "https://localhost:8080/"
        },
        "id": "imONyBVKmSBK",
        "outputId": "b18f1896-5fa9-4c2d-eb26-8b65dc4ecf5e"
      },
      "source": [
        "#model saved\n",
        "model.load_state_dict(torch.load(\"model.pth\"))"
      ],
      "execution_count": 18,
      "outputs": [
        {
          "output_type": "execute_result",
          "data": {
            "text/plain": [
              "<All keys matched successfully>"
            ]
          },
          "metadata": {},
          "execution_count": 18
        }
      ]
    },
    {
      "cell_type": "markdown",
      "metadata": {
        "id": "Q8EwazOutnA0"
      },
      "source": [
        "# **Problem(b)**"
      ]
    },
    {
      "cell_type": "markdown",
      "metadata": {
        "id": "pOC1Eun-tv0Q"
      },
      "source": [
        "Plot this gradient for a few input images which the network classifies correctly and also for a few images which the network misclassifies."
      ]
    },
    {
      "cell_type": "code",
      "metadata": {
        "id": "60f_vEKPkWVI"
      },
      "source": [
        "trainloader_100 = torch.utils.data.DataLoader(trainset, batch_size=100, shuffle=True)\n",
        "xs = []\n",
        "ys = []\n",
        "eps = 8\n",
        "\n",
        "for i, (images, labels) in enumerate(trainloader_100):\n",
        "    if i == 1:\n",
        "        break\n",
        "    xs.append(images)\n",
        "    ys.append(labels)"
      ],
      "execution_count": 32,
      "outputs": []
    },
    {
      "cell_type": "markdown",
      "metadata": {
        "id": "Rj0YjZV2uEUV"
      },
      "source": [
        "test the matrix"
      ]
    },
    {
      "cell_type": "code",
      "metadata": {
        "colab": {
          "base_uri": "https://localhost:8080/"
        },
        "id": "8KxBMmmlknSB",
        "outputId": "b735e4a9-30a0-4795-9c8b-d4e445acb250"
      },
      "source": [
        "len(xs[0])"
      ],
      "execution_count": 33,
      "outputs": [
        {
          "output_type": "execute_result",
          "data": {
            "text/plain": [
              "100"
            ]
          },
          "metadata": {},
          "execution_count": 33
        }
      ]
    },
    {
      "cell_type": "code",
      "metadata": {
        "id": "48sNVI2rkojz"
      },
      "source": [
        "optimizer = optim.SGD(model.parameters(), lr=0.01, momentum=0.9, weight_decay=1e-4)\n",
        "True_i = []\n",
        "False_i = []\n",
        "for x, y in zip(xs,ys):\n",
        "  x = x.to(device)\n",
        "  y = y.to(device)\n",
        "  x.requires_grad_(True)\n",
        "  yh = model(x)\n",
        "  loss = criterion(yh,y)\n",
        "  optimizer.zero_grad()\n",
        "  loss.backward()\n",
        "  _, predicted = torch.max(yh.data,1)\n",
        "  outcome = predicted == y\n",
        "  dx = x.grad.data.clone() \n",
        "  for i in range(100):\n",
        "    if outcome[i] == True:\n",
        "      True_i.append(i)\n",
        "    else:\n",
        "      False_i.append(i)"
      ],
      "execution_count": 34,
      "outputs": []
    },
    {
      "cell_type": "code",
      "metadata": {
        "colab": {
          "base_uri": "https://localhost:8080/"
        },
        "id": "FMfkG2vrktOw",
        "outputId": "84004751-db68-4515-9be6-c7eff56063f7"
      },
      "source": [
        "outcome"
      ],
      "execution_count": 35,
      "outputs": [
        {
          "output_type": "execute_result",
          "data": {
            "text/plain": [
              "tensor([ True,  True,  True, False,  True, False,  True, False,  True,  True,\n",
              "         True,  True,  True,  True,  True,  True,  True,  True, False,  True,\n",
              "         True,  True,  True,  True,  True,  True,  True,  True,  True,  True,\n",
              "         True,  True, False, False,  True,  True,  True,  True,  True,  True,\n",
              "         True,  True,  True, False,  True,  True,  True,  True,  True,  True,\n",
              "         True,  True,  True, False,  True,  True,  True,  True,  True, False,\n",
              "         True,  True, False,  True,  True,  True,  True,  True,  True,  True,\n",
              "         True,  True,  True,  True,  True,  True,  True,  True,  True,  True,\n",
              "         True,  True,  True,  True, False,  True,  True,  True,  True,  True,\n",
              "         True,  True,  True,  True,  True,  True,  True,  True,  True,  True],\n",
              "       device='cuda:0')"
            ]
          },
          "metadata": {},
          "execution_count": 35
        }
      ]
    },
    {
      "cell_type": "code",
      "metadata": {
        "id": "704a31cOk0v8"
      },
      "source": [
        "dx = dx.cpu()"
      ],
      "execution_count": 36,
      "outputs": []
    },
    {
      "cell_type": "code",
      "metadata": {
        "colab": {
          "base_uri": "https://localhost:8080/",
          "height": 283
        },
        "id": "R50OaZFgk2Cl",
        "outputId": "6350ccab-b14a-4b25-97bc-1aa98a77d310"
      },
      "source": [
        "#chose True one from the outcome\n",
        "import random\n",
        "import matplotlib.pyplot as plt\n",
        "a = random.choice(True_i)\n",
        "aa = (dx.detach().numpy())[a] #transform tensor to numpy\n",
        "aa = aa.transpose((1,2,0)) #（channels,imagesize,imagesize）\n",
        "aa = (aa-np.mean(aa))/np.std(aa) #normalize\n",
        "aa = np.uint8(aa)\n",
        "plt.imshow(aa)"
      ],
      "execution_count": 37,
      "outputs": [
        {
          "output_type": "execute_result",
          "data": {
            "text/plain": [
              "<matplotlib.image.AxesImage at 0x7fe58a573650>"
            ]
          },
          "metadata": {},
          "execution_count": 37
        },
        {
          "output_type": "display_data",
          "data": {
            "image/png": "[encoded data removed]",
            "text/plain": [
              "<Figure size 432x288 with 1 Axes>"
            ]
          },
          "metadata": {
            "needs_background": "light"
          }
        }
      ]
    },
    {
      "cell_type": "code",
      "metadata": {
        "colab": {
          "base_uri": "https://localhost:8080/",
          "height": 283
        },
        "id": "dMmaQT3Jspa4",
        "outputId": "e693944a-8cbb-4c41-f61a-560f16aef3f1"
      },
      "source": [
        "#chose Fals one from the outcome, eg:outcome[2]\n",
        "b = random.choice(False_i)\n",
        "bb = (dx.detach().numpy())[b] #transform tensor to numpy\n",
        "bb = bb.transpose((1,2,0)) #（channels,imagesize,imagesize）\n",
        "bb = (bb-np.mean(bb))/np.std(bb) #normalize\n",
        "bb = np.uint8(bb)\n",
        "plt.imshow(bb)"
      ],
      "execution_count": 38,
      "outputs": [
        {
          "output_type": "execute_result",
          "data": {
            "text/plain": [
              "<matplotlib.image.AxesImage at 0x7fe58a434d50>"
            ]
          },
          "metadata": {},
          "execution_count": 38
        },
        {
          "output_type": "display_data",
          "data": {
            "image/png": "[encoded data removed]",
            "text/plain": [
              "<Figure size 432x288 with 1 Axes>"
            ]
          },
          "metadata": {
            "needs_background": "light"
          }
        }
      ]
    },
    {
      "cell_type": "code",
      "metadata": {
        "colab": {
          "base_uri": "https://localhost:8080/",
          "height": 364
        },
        "id": "rgTrqAn3s0Hu",
        "outputId": "72ee7013-3be2-4400-b5a0-5feb089d8f3a"
      },
      "source": [
        "ell = []\n",
        "number = []\n",
        "for x,y in zip(xs,ys):\n",
        "  for k in range(5):\n",
        "    x.requires_grad_(True)\n",
        "    x = x.to(device)\n",
        "    x.retain_grad()\n",
        "    y = y.to(device)\n",
        "    yh = model(x)\n",
        "    loss = criterion(yh, y)\n",
        "    optimizer.zero_grad()\n",
        "    loss.backward()\n",
        "    loss_temp = 0\n",
        "    dx = x.grad.data.clone()\n",
        "    dx = torch.sign(dx)\n",
        "    x = x + (eps/256)*dx\n",
        "    \n",
        "    loss_temp = loss.item()\n",
        "    ell.append(loss_temp)\n",
        "    number.append(k+1)\n",
        "    print(\"step:{} loss:{}\".format(k,loss_temp))\n",
        "  plt.plot(number, ell, 'r')\n",
        "  plt.xlabel('perturb number')\n",
        "  plt.ylabel('loss')"
      ],
      "execution_count": 39,
      "outputs": [
        {
          "output_type": "stream",
          "name": "stdout",
          "text": [
            "step:0 loss:0.31073594093322754\n",
            "step:1 loss:4.698543071746826\n",
            "step:2 loss:10.973986625671387\n",
            "step:3 loss:16.8492374420166\n",
            "step:4 loss:21.981725692749023\n"
          ]
        },
        {
          "output_type": "display_data",
          "data": {
            "image/png": "[encoded data removed]",
            "text/plain": [
              "<Figure size 432x288 with 1 Axes>"
            ]
          },
          "metadata": {
            "needs_background": "light"
          }
        }
      ]
    },
    {
      "cell_type": "markdown",
      "metadata": {
        "id": "ja9URvgWuMfX"
      },
      "source": [
        "# **Problem(c)**"
      ]
    },
    {
      "cell_type": "markdown",
      "metadata": {
        "id": "b1kBd-tFuRBQ"
      },
      "source": [
        "Compute the accuracy of the network on 1-step perturbed images."
      ]
    },
    {
      "cell_type": "code",
      "metadata": {
        "id": "u-i-_GVItP37"
      },
      "source": [
        "model.eval()\n",
        "o_correct = 0\n",
        "m_correct = 0\n",
        "total = 0\n",
        "for i, (images, labels) in enumerate(testloader):\n",
        "    x = images.to(device)\n",
        "    y = labels.to(device)\n",
        "    x.requires_grad_(True)\n",
        "    outputs = model(x)\n",
        "    loss = criterion(outputs, y)\n",
        "    optimizer.zero_grad()\n",
        "    loss.backward()\n",
        "    _, predicted = torch.max(outputs.data, 1)\n",
        "    o_correct += (predicted == y).sum().item()\n",
        "\n",
        "    dx = x.grad.data.clone()\n",
        "    x = torch.add(x, eps*torch.sign(dx))\n",
        "    x.retain_grad()\n",
        "    outputs = model(x)\n",
        "    _, predicted = torch.max(outputs.data, 1)\n",
        "    total += y.size(0)\n",
        "    m_correct += (predicted == y).sum().item()"
      ],
      "execution_count": 40,
      "outputs": []
    },
    {
      "cell_type": "code",
      "metadata": {
        "colab": {
          "base_uri": "https://localhost:8080/"
        },
        "id": "ih4iKcoVtYGL",
        "outputId": "c6993685-ab0e-450c-efb1-75119d54c4f9"
      },
      "source": [
        "print('Accuracy on the modified test images: {} %'.format(100 * m_correct / total))\n",
        "print('Accuracy on the original test images: {} %'.format(100 * o_correct / total))"
      ],
      "execution_count": 41,
      "outputs": [
        {
          "output_type": "stream",
          "name": "stdout",
          "text": [
            "Accuracy on the modified test images: 11.8 %\n",
            "Accuracy on the original test images: 83.48 %\n"
          ]
        }
      ]
    },
    {
      "cell_type": "markdown",
      "metadata": {
        "id": "zOrDCjPHuZXb"
      },
      "source": [
        "# **The second way for Question 4** \n",
        "maybe the results are not useful."
      ]
    },
    {
      "cell_type": "markdown",
      "metadata": {
        "id": "gAGjWnSsnJv6"
      },
      "source": [
        "# **Problem4 (a)** "
      ]
    },
    {
      "cell_type": "code",
      "metadata": {
        "colab": {
          "base_uri": "https://localhost:8080/",
          "height": 100,
          "referenced_widgets": [
            "6613529848ca4a8197ee6ac2a6d9ff37",
            "207134e0ced0429cbfd35be340ff37e6",
            "2c8d868939464734a1f545f95c1e8709",
            "d18bfdf861e34f8ebfe0cf194b84f533",
            "694cca66794a46fe96a40d042c7cdb93",
            "a608490f50da46b69202cdb9b9c181b0",
            "9b76c48d60d046e8b4bddd6885016972",
            "e53b764d8c6f4ce18678ff559664fb05",
            "0e2daadbad3a4ac9b11ee2f53636a599",
            "ebc93daf1f8f4d6d85991ff9c72fa9c9",
            "1e4d547a7873491f9ee55a2d405d4274"
          ]
        },
        "id": "HL2t6yDOG_XU",
        "outputId": "26d2109b-8b81-4db6-f67f-95d001e42c1d"
      },
      "source": [
        "# Reading in the dataset\n",
        "transform = transforms.Compose([\n",
        "     transforms.RandomHorizontalFlip(),\n",
        "     transforms.RandomVerticalFlip(),\n",
        "     transforms.ToTensor(),\n",
        "     transforms.Normalize((0.5, 0.5, 0.5), (0.5, 0.5, 0.5)),\n",
        "     ])\n",
        "\n",
        "trainset = torchvision.datasets.CIFAR10(root='./data', train=True,\n",
        "                                        download=True, transform=transform)\n",
        "trainloader = torch.utils.data.DataLoader(trainset, batch_size=16,\n",
        "                                          shuffle=True)\n",
        "\n",
        "testset = torchvision.datasets.CIFAR10(root='./data', train=False,\n",
        "                                       download=True, transform=transform)\n",
        "testloader = torch.utils.data.DataLoader(testset, batch_size=16,\n",
        "                                         shuffle=False)\n",
        "\n",
        "classes = ('plane', 'car', 'bird', 'cat',\n",
        "           'deer', 'dog', 'frog', 'horse', 'ship', 'truck')"
      ],
      "execution_count": null,
      "outputs": [
        {
          "output_type": "stream",
          "name": "stdout",
          "text": [
            "Downloading https://www.cs.toronto.edu/~kriz/cifar-10-python.tar.gz to ./data/cifar-10-python.tar.gz\n"
          ]
        },
        {
          "output_type": "display_data",
          "data": {
            "application/vnd.jupyter.widget-view+json": {
              "model_id": "6613529848ca4a8197ee6ac2a6d9ff37",
              "version_minor": 0,
              "version_major": 2
            },
            "text/plain": [
              "  0%|          | 0/170498071 [00:00<?, ?it/s]"
            ]
          },
          "metadata": {}
        },
        {
          "output_type": "stream",
          "name": "stdout",
          "text": [
            "Extracting ./data/cifar-10-python.tar.gz to ./data\n",
            "Files already downloaded and verified\n"
          ]
        }
      ]
    },
    {
      "cell_type": "code",
      "metadata": {
        "id": "-ri87XktE33G"
      },
      "source": [
        "# Defining the model\n",
        "class View(nn.Module):\n",
        "    def __init__(self,o):\n",
        "        super().__init__()\n",
        "        self.o = o\n",
        "\n",
        "    def forward(self,x):\n",
        "        return x.view(-1, self.o)\n",
        "    \n",
        "class allcnn_t(nn.Module):\n",
        "    def __init__(self, c1=96, c2= 192):\n",
        "        super().__init__()\n",
        "        d = 0.5\n",
        "\n",
        "        def convbn(ci,co,ksz,s=1,pz=0):\n",
        "            return nn.Sequential(\n",
        "                nn.Conv2d(ci,co,ksz,stride=s,padding=pz),\n",
        "                nn.ReLU(True),\n",
        "                nn.BatchNorm2d(co))\n",
        "\n",
        "        self.m = nn.Sequential(\n",
        "            nn.Dropout(0.2),\n",
        "            convbn(3,c1,3,1,1),\n",
        "            convbn(c1,c1,3,1,1),\n",
        "            convbn(c1,c1,3,2,1),\n",
        "            nn.Dropout(d),\n",
        "            convbn(c1,c2,3,1,1),\n",
        "            convbn(c2,c2,3,1,1),\n",
        "            convbn(c2,c2,3,2,1),\n",
        "            nn.Dropout(d),\n",
        "            convbn(c2,c2,3,1,1),\n",
        "            convbn(c2,c2,3,1,1),\n",
        "            convbn(c2,10,1,1),\n",
        "            nn.AvgPool2d(8),\n",
        "            View(10))\n",
        "\n",
        "        print('Num parameters: ', sum([p.numel() for p in self.m.parameters()]))\n",
        "\n",
        "    def forward(self, x):\n",
        "        return self.m(x)\n",
        "\n",
        "# The training loop\n",
        "\n",
        "def train(net, optimizer, criterion, train_loader, test_loader, epochs, model_name, plot):\n",
        "    model = net.to(device)\n",
        "    total_step = len(train_loader)\n",
        "    overall_step = 0\n",
        "    train_loss = []\n",
        "    train_error = []\n",
        "    val_loss = []\n",
        "    val_error = []\n",
        "    for epoch in range(epochs):\n",
        "        correct = 0\n",
        "        total = 0\n",
        "        loss_save = 0.0\n",
        "        \n",
        "        #Learning rate of 0.1 for the first 40 epochs, then 0.01 for the next 40 epochs and then 0.001 for the final 20 epochs.\n",
        "        if (0 <= epoch < 40):\n",
        "          optimizer = optim.SGD(model.parameters(), lr=0.1, momentum=0.9, weight_decay=1e-4)\n",
        "        elif (epoch < 80):\n",
        "          optimizer = optim.SGD(model.parameters(), lr=0.01, momentum=0.9, weight_decay=1e-4)\n",
        "        elif (epoch <= 100):\n",
        "          optimizer = optim.SGD(model.parameters(), lr=0.001, momentum=0.9, weight_decay=1e-4)\n",
        "        \n",
        "        for i, (images, labels) in enumerate(train_loader):\n",
        "            # Move tensors to configured device\n",
        "            images = images.to(device)\n",
        "            labels = labels.to(device)\n",
        "            #Forward Pass\n",
        "            outputs = model(images)\n",
        "            loss = criterion(outputs, labels)\n",
        "            optimizer.zero_grad()\n",
        "            loss.backward()\n",
        "            loss_save += loss.item()\n",
        "            _, predicted = torch.max(outputs.data,1)\n",
        "            total += labels.size(0)\n",
        "            correct += (predicted == labels).sum().item()\n",
        "            optimizer.step()\n",
        "\n",
        "            if (i+1) % 1000 == 0:\n",
        "              print ('Epoch [{}/{}], Step [{}/{}], Loss: {:.4f}'.format(epoch+1, epochs, i+1, total_step, loss.item()))\n",
        "            if plot:\n",
        "              info = { ('loss_' + model_name): loss.item() }\n",
        "              for tag, value in info.items():\n",
        "                logger.scalar_summary(tag, value, overall_step+1)\n",
        "        train_loss.append(loss_save)\n",
        "        train_error.append(100-100*correct/total)\n",
        "\n",
        "        model.eval()\n",
        "        with torch.no_grad():\n",
        "            correct = 0\n",
        "            total = 0\n",
        "            for i, (images, labels) in enumerate(test_loader):\n",
        "                images = images.to(device)\n",
        "                labels = labels.to(device)\n",
        "                outputs = model(images)\n",
        "                _, predicted = torch.max(outputs.data, 1)\n",
        "                total += labels.size(0)\n",
        "                correct += (predicted == labels).sum().item()\n",
        "        val_loss.append(loss_save)\n",
        "        val_error.append(100-100*correct/total)\n",
        "    print('Accuracy of the network on the test images: {} %'.format(100 * correct / total))\n",
        "    return val_error,val_loss,train_error,train_loss"
      ],
      "execution_count": null,
      "outputs": []
    },
    {
      "cell_type": "code",
      "metadata": {
        "colab": {
          "base_uri": "https://localhost:8080/"
        },
        "id": "2Th0TBh6wVcK",
        "outputId": "993b8c98-8a40-4e57-e4ff-edcd5a26860f"
      },
      "source": [
        "model = allcnn_t().to(device)\n",
        "#TODO: Set it as number of epochs states in the question\n",
        "epochs = 100\n",
        "# TODO: Define the loss function as asked in the question\n",
        "criterion = nn.CrossEntropyLoss()\n",
        "# TODO: Set parameters as stated in the question\n",
        "optimizer = optim.SGD(model.parameters(), lr=0.1, momentum=0.9, weight_decay=1e-4)\n",
        "# Training loop called here\n",
        "val_error,val_loss,train_error,train_loss = train(model, optimizer, criterion, trainloader, testloader, epochs, 'cnn', True)"
      ],
      "execution_count": null,
      "outputs": [
        {
          "output_type": "stream",
          "name": "stdout",
          "text": [
            "Num parameters:  1667166\n",
            "Epoch [1/100], Step [1000/3125], Loss: 1.9898\n",
            "Epoch [1/100], Step [2000/3125], Loss: 1.6824\n",
            "Epoch [1/100], Step [3000/3125], Loss: 1.3944\n",
            "Epoch [2/100], Step [1000/3125], Loss: 1.3690\n",
            "Epoch [2/100], Step [2000/3125], Loss: 1.1930\n",
            "Epoch [2/100], Step [3000/3125], Loss: 1.1196\n",
            "Epoch [3/100], Step [1000/3125], Loss: 0.9548\n",
            "Epoch [3/100], Step [2000/3125], Loss: 1.4796\n",
            "Epoch [3/100], Step [3000/3125], Loss: 0.7386\n",
            "Epoch [4/100], Step [1000/3125], Loss: 0.9032\n",
            "Epoch [4/100], Step [2000/3125], Loss: 0.9778\n",
            "Epoch [4/100], Step [3000/3125], Loss: 1.1450\n",
            "Epoch [5/100], Step [1000/3125], Loss: 1.5697\n",
            "Epoch [5/100], Step [2000/3125], Loss: 0.7775\n",
            "Epoch [5/100], Step [3000/3125], Loss: 1.0496\n",
            "Epoch [6/100], Step [1000/3125], Loss: 0.6613\n",
            "Epoch [6/100], Step [2000/3125], Loss: 0.5201\n",
            "Epoch [6/100], Step [3000/3125], Loss: 0.5005\n",
            "Epoch [7/100], Step [1000/3125], Loss: 0.9614\n",
            "Epoch [7/100], Step [2000/3125], Loss: 0.9196\n",
            "Epoch [7/100], Step [3000/3125], Loss: 0.7876\n",
            "Epoch [8/100], Step [1000/3125], Loss: 1.1820\n",
            "Epoch [8/100], Step [2000/3125], Loss: 0.9836\n",
            "Epoch [8/100], Step [3000/3125], Loss: 0.8339\n",
            "Epoch [9/100], Step [1000/3125], Loss: 1.1414\n",
            "Epoch [9/100], Step [2000/3125], Loss: 0.7810\n",
            "Epoch [9/100], Step [3000/3125], Loss: 0.6676\n",
            "Epoch [10/100], Step [1000/3125], Loss: 0.7925\n",
            "Epoch [10/100], Step [2000/3125], Loss: 0.2902\n",
            "Epoch [10/100], Step [3000/3125], Loss: 0.6437\n",
            "Epoch [11/100], Step [1000/3125], Loss: 1.3922\n",
            "Epoch [11/100], Step [2000/3125], Loss: 1.4551\n",
            "Epoch [11/100], Step [3000/3125], Loss: 1.0308\n",
            "Epoch [12/100], Step [1000/3125], Loss: 1.0360\n",
            "Epoch [12/100], Step [2000/3125], Loss: 0.6793\n",
            "Epoch [12/100], Step [3000/3125], Loss: 0.7202\n",
            "Epoch [13/100], Step [1000/3125], Loss: 0.5849\n",
            "Epoch [13/100], Step [2000/3125], Loss: 0.9086\n",
            "Epoch [13/100], Step [3000/3125], Loss: 0.9373\n",
            "Epoch [14/100], Step [1000/3125], Loss: 0.4697\n",
            "Epoch [14/100], Step [2000/3125], Loss: 0.2786\n",
            "Epoch [14/100], Step [3000/3125], Loss: 0.8162\n",
            "Epoch [15/100], Step [1000/3125], Loss: 0.4682\n",
            "Epoch [15/100], Step [2000/3125], Loss: 1.0713\n",
            "Epoch [15/100], Step [3000/3125], Loss: 0.4972\n",
            "Epoch [16/100], Step [1000/3125], Loss: 0.4540\n",
            "Epoch [16/100], Step [2000/3125], Loss: 0.5902\n",
            "Epoch [16/100], Step [3000/3125], Loss: 0.8780\n",
            "Epoch [17/100], Step [1000/3125], Loss: 0.4509\n",
            "Epoch [17/100], Step [2000/3125], Loss: 0.5087\n",
            "Epoch [17/100], Step [3000/3125], Loss: 0.8166\n",
            "Epoch [18/100], Step [1000/3125], Loss: 0.8137\n",
            "Epoch [18/100], Step [2000/3125], Loss: 0.4040\n",
            "Epoch [18/100], Step [3000/3125], Loss: 0.8559\n",
            "Epoch [19/100], Step [1000/3125], Loss: 0.6666\n",
            "Epoch [19/100], Step [2000/3125], Loss: 0.3659\n",
            "Epoch [19/100], Step [3000/3125], Loss: 0.7887\n",
            "Epoch [20/100], Step [1000/3125], Loss: 0.4367\n",
            "Epoch [20/100], Step [2000/3125], Loss: 0.6921\n",
            "Epoch [20/100], Step [3000/3125], Loss: 0.6665\n",
            "Epoch [21/100], Step [1000/3125], Loss: 0.7928\n",
            "Epoch [21/100], Step [2000/3125], Loss: 0.7741\n",
            "Epoch [21/100], Step [3000/3125], Loss: 0.6501\n",
            "Epoch [22/100], Step [1000/3125], Loss: 0.6808\n",
            "Epoch [22/100], Step [2000/3125], Loss: 1.0240\n",
            "Epoch [22/100], Step [3000/3125], Loss: 1.0281\n",
            "Epoch [23/100], Step [1000/3125], Loss: 0.6071\n",
            "Epoch [23/100], Step [2000/3125], Loss: 0.6520\n",
            "Epoch [23/100], Step [3000/3125], Loss: 1.0433\n",
            "Epoch [24/100], Step [1000/3125], Loss: 0.4182\n",
            "Epoch [24/100], Step [2000/3125], Loss: 0.5900\n",
            "Epoch [24/100], Step [3000/3125], Loss: 0.6869\n",
            "Epoch [25/100], Step [1000/3125], Loss: 0.1856\n",
            "Epoch [25/100], Step [2000/3125], Loss: 0.5751\n",
            "Epoch [25/100], Step [3000/3125], Loss: 0.5078\n",
            "Epoch [26/100], Step [1000/3125], Loss: 0.4893\n",
            "Epoch [26/100], Step [2000/3125], Loss: 0.9935\n",
            "Epoch [26/100], Step [3000/3125], Loss: 0.5996\n",
            "Epoch [27/100], Step [1000/3125], Loss: 0.7518\n",
            "Epoch [27/100], Step [2000/3125], Loss: 0.7446\n",
            "Epoch [27/100], Step [3000/3125], Loss: 0.7099\n",
            "Epoch [28/100], Step [1000/3125], Loss: 1.4761\n",
            "Epoch [28/100], Step [2000/3125], Loss: 0.8386\n",
            "Epoch [28/100], Step [3000/3125], Loss: 0.4547\n",
            "Epoch [29/100], Step [1000/3125], Loss: 0.7846\n",
            "Epoch [29/100], Step [2000/3125], Loss: 0.2271\n",
            "Epoch [29/100], Step [3000/3125], Loss: 0.6354\n",
            "Epoch [30/100], Step [1000/3125], Loss: 0.7644\n",
            "Epoch [30/100], Step [2000/3125], Loss: 0.6968\n",
            "Epoch [30/100], Step [3000/3125], Loss: 0.9691\n",
            "Epoch [31/100], Step [1000/3125], Loss: 0.8563\n",
            "Epoch [31/100], Step [2000/3125], Loss: 0.6984\n",
            "Epoch [31/100], Step [3000/3125], Loss: 1.1604\n",
            "Epoch [32/100], Step [1000/3125], Loss: 0.7917\n",
            "Epoch [32/100], Step [2000/3125], Loss: 0.4730\n",
            "Epoch [32/100], Step [3000/3125], Loss: 0.4190\n",
            "Epoch [33/100], Step [1000/3125], Loss: 0.8539\n",
            "Epoch [33/100], Step [2000/3125], Loss: 0.7595\n",
            "Epoch [33/100], Step [3000/3125], Loss: 1.0926\n",
            "Epoch [34/100], Step [1000/3125], Loss: 0.5947\n",
            "Epoch [34/100], Step [2000/3125], Loss: 0.4915\n",
            "Epoch [34/100], Step [3000/3125], Loss: 0.6833\n",
            "Epoch [35/100], Step [1000/3125], Loss: 0.5778\n",
            "Epoch [35/100], Step [2000/3125], Loss: 0.9464\n",
            "Epoch [35/100], Step [3000/3125], Loss: 0.2767\n",
            "Epoch [36/100], Step [1000/3125], Loss: 0.3417\n",
            "Epoch [36/100], Step [2000/3125], Loss: 0.2447\n",
            "Epoch [36/100], Step [3000/3125], Loss: 0.1598\n",
            "Epoch [37/100], Step [1000/3125], Loss: 0.6265\n",
            "Epoch [37/100], Step [2000/3125], Loss: 0.7064\n",
            "Epoch [37/100], Step [3000/3125], Loss: 0.8507\n",
            "Epoch [38/100], Step [1000/3125], Loss: 0.7141\n",
            "Epoch [38/100], Step [2000/3125], Loss: 0.5583\n",
            "Epoch [38/100], Step [3000/3125], Loss: 0.2565\n",
            "Epoch [39/100], Step [1000/3125], Loss: 0.4172\n",
            "Epoch [39/100], Step [2000/3125], Loss: 0.3967\n",
            "Epoch [39/100], Step [3000/3125], Loss: 0.7458\n",
            "Epoch [40/100], Step [1000/3125], Loss: 0.3947\n",
            "Epoch [40/100], Step [2000/3125], Loss: 0.6713\n",
            "Epoch [40/100], Step [3000/3125], Loss: 0.4099\n",
            "Epoch [41/100], Step [1000/3125], Loss: 0.7029\n",
            "Epoch [41/100], Step [2000/3125], Loss: 0.3365\n",
            "Epoch [41/100], Step [3000/3125], Loss: 0.2246\n",
            "Epoch [42/100], Step [1000/3125], Loss: 0.0923\n",
            "Epoch [42/100], Step [2000/3125], Loss: 1.4783\n",
            "Epoch [42/100], Step [3000/3125], Loss: 0.1818\n",
            "Epoch [43/100], Step [1000/3125], Loss: 0.5663\n",
            "Epoch [43/100], Step [2000/3125], Loss: 0.0302\n",
            "Epoch [43/100], Step [3000/3125], Loss: 0.0638\n",
            "Epoch [44/100], Step [1000/3125], Loss: 0.5589\n",
            "Epoch [44/100], Step [2000/3125], Loss: 0.5652\n",
            "Epoch [44/100], Step [3000/3125], Loss: 0.3168\n",
            "Epoch [45/100], Step [1000/3125], Loss: 0.0941\n",
            "Epoch [45/100], Step [2000/3125], Loss: 0.0585\n",
            "Epoch [45/100], Step [3000/3125], Loss: 0.2073\n",
            "Epoch [46/100], Step [1000/3125], Loss: 0.2562\n",
            "Epoch [46/100], Step [2000/3125], Loss: 0.2135\n",
            "Epoch [46/100], Step [3000/3125], Loss: 0.1443\n",
            "Epoch [47/100], Step [1000/3125], Loss: 0.2368\n",
            "Epoch [47/100], Step [2000/3125], Loss: 0.3590\n",
            "Epoch [47/100], Step [3000/3125], Loss: 0.0969\n",
            "Epoch [48/100], Step [1000/3125], Loss: 0.1447\n",
            "Epoch [48/100], Step [2000/3125], Loss: 0.0349\n",
            "Epoch [48/100], Step [3000/3125], Loss: 0.1914\n",
            "Epoch [49/100], Step [1000/3125], Loss: 0.2303\n",
            "Epoch [49/100], Step [2000/3125], Loss: 0.2163\n",
            "Epoch [49/100], Step [3000/3125], Loss: 0.5687\n",
            "Epoch [50/100], Step [1000/3125], Loss: 0.0143\n",
            "Epoch [50/100], Step [2000/3125], Loss: 0.1976\n",
            "Epoch [50/100], Step [3000/3125], Loss: 0.2525\n",
            "Epoch [51/100], Step [1000/3125], Loss: 0.2451\n",
            "Epoch [51/100], Step [2000/3125], Loss: 0.0222\n",
            "Epoch [51/100], Step [3000/3125], Loss: 0.0255\n",
            "Epoch [52/100], Step [1000/3125], Loss: 0.0636\n",
            "Epoch [52/100], Step [2000/3125], Loss: 0.5088\n",
            "Epoch [52/100], Step [3000/3125], Loss: 0.0974\n",
            "Epoch [53/100], Step [1000/3125], Loss: 0.2281\n",
            "Epoch [53/100], Step [2000/3125], Loss: 0.1196\n",
            "Epoch [53/100], Step [3000/3125], Loss: 0.0929\n",
            "Epoch [54/100], Step [1000/3125], Loss: 0.0672\n",
            "Epoch [54/100], Step [2000/3125], Loss: 0.2369\n",
            "Epoch [54/100], Step [3000/3125], Loss: 0.2024\n",
            "Epoch [55/100], Step [1000/3125], Loss: 0.2825\n",
            "Epoch [55/100], Step [2000/3125], Loss: 0.1989\n",
            "Epoch [55/100], Step [3000/3125], Loss: 0.0338\n",
            "Epoch [56/100], Step [1000/3125], Loss: 0.1072\n",
            "Epoch [56/100], Step [2000/3125], Loss: 0.1154\n",
            "Epoch [56/100], Step [3000/3125], Loss: 0.2574\n",
            "Epoch [57/100], Step [1000/3125], Loss: 0.7686\n",
            "Epoch [57/100], Step [2000/3125], Loss: 0.0794\n",
            "Epoch [57/100], Step [3000/3125], Loss: 0.1572\n",
            "Epoch [58/100], Step [1000/3125], Loss: 0.0345\n",
            "Epoch [58/100], Step [2000/3125], Loss: 0.0340\n",
            "Epoch [58/100], Step [3000/3125], Loss: 0.4314\n",
            "Epoch [59/100], Step [1000/3125], Loss: 0.2193\n",
            "Epoch [59/100], Step [2000/3125], Loss: 0.1095\n",
            "Epoch [59/100], Step [3000/3125], Loss: 0.0666\n",
            "Epoch [60/100], Step [1000/3125], Loss: 0.0300\n",
            "Epoch [60/100], Step [2000/3125], Loss: 0.2178\n",
            "Epoch [60/100], Step [3000/3125], Loss: 0.1728\n",
            "Epoch [61/100], Step [1000/3125], Loss: 0.0684\n",
            "Epoch [61/100], Step [2000/3125], Loss: 0.3373\n",
            "Epoch [61/100], Step [3000/3125], Loss: 0.0164\n",
            "Epoch [62/100], Step [1000/3125], Loss: 0.0212\n",
            "Epoch [62/100], Step [2000/3125], Loss: 0.0559\n",
            "Epoch [62/100], Step [3000/3125], Loss: 0.0409\n",
            "Epoch [63/100], Step [1000/3125], Loss: 0.0777\n",
            "Epoch [63/100], Step [2000/3125], Loss: 0.0296\n",
            "Epoch [63/100], Step [3000/3125], Loss: 0.1027\n",
            "Epoch [64/100], Step [1000/3125], Loss: 0.1903\n",
            "Epoch [64/100], Step [2000/3125], Loss: 0.0281\n",
            "Epoch [64/100], Step [3000/3125], Loss: 0.2532\n",
            "Epoch [65/100], Step [1000/3125], Loss: 0.1064\n",
            "Epoch [65/100], Step [2000/3125], Loss: 0.0949\n",
            "Epoch [65/100], Step [3000/3125], Loss: 0.0263\n",
            "Epoch [66/100], Step [1000/3125], Loss: 0.0397\n",
            "Epoch [66/100], Step [2000/3125], Loss: 0.0666\n",
            "Epoch [66/100], Step [3000/3125], Loss: 0.0866\n",
            "Epoch [67/100], Step [1000/3125], Loss: 0.3317\n",
            "Epoch [67/100], Step [2000/3125], Loss: 0.1046\n",
            "Epoch [67/100], Step [3000/3125], Loss: 0.1801\n",
            "Epoch [68/100], Step [1000/3125], Loss: 0.0010\n",
            "Epoch [68/100], Step [2000/3125], Loss: 0.0920\n",
            "Epoch [68/100], Step [3000/3125], Loss: 0.0581\n",
            "Epoch [69/100], Step [1000/3125], Loss: 0.3337\n",
            "Epoch [69/100], Step [2000/3125], Loss: 0.1936\n",
            "Epoch [69/100], Step [3000/3125], Loss: 0.0168\n",
            "Epoch [70/100], Step [1000/3125], Loss: 0.0412\n",
            "Epoch [70/100], Step [2000/3125], Loss: 0.0210\n",
            "Epoch [70/100], Step [3000/3125], Loss: 0.1477\n",
            "Epoch [71/100], Step [1000/3125], Loss: 0.1447\n",
            "Epoch [71/100], Step [2000/3125], Loss: 0.0553\n",
            "Epoch [71/100], Step [3000/3125], Loss: 0.4058\n",
            "Epoch [72/100], Step [1000/3125], Loss: 0.0839\n",
            "Epoch [72/100], Step [2000/3125], Loss: 0.0085\n",
            "Epoch [72/100], Step [3000/3125], Loss: 0.0459\n",
            "Epoch [73/100], Step [1000/3125], Loss: 0.1725\n",
            "Epoch [73/100], Step [2000/3125], Loss: 0.2753\n",
            "Epoch [73/100], Step [3000/3125], Loss: 0.2435\n",
            "Epoch [74/100], Step [1000/3125], Loss: 0.1068\n",
            "Epoch [74/100], Step [2000/3125], Loss: 0.0458\n",
            "Epoch [74/100], Step [3000/3125], Loss: 0.0789\n",
            "Epoch [75/100], Step [1000/3125], Loss: 0.0431\n",
            "Epoch [75/100], Step [2000/3125], Loss: 0.0743\n",
            "Epoch [75/100], Step [3000/3125], Loss: 0.0425\n",
            "Epoch [76/100], Step [1000/3125], Loss: 0.0638\n",
            "Epoch [76/100], Step [2000/3125], Loss: 0.0688\n",
            "Epoch [76/100], Step [3000/3125], Loss: 0.1141\n",
            "Epoch [77/100], Step [1000/3125], Loss: 0.0414\n",
            "Epoch [77/100], Step [2000/3125], Loss: 0.0731\n",
            "Epoch [77/100], Step [3000/3125], Loss: 0.0119\n",
            "Epoch [78/100], Step [1000/3125], Loss: 0.0336\n",
            "Epoch [78/100], Step [2000/3125], Loss: 0.2198\n",
            "Epoch [78/100], Step [3000/3125], Loss: 0.1710\n",
            "Epoch [79/100], Step [1000/3125], Loss: 0.0393\n",
            "Epoch [79/100], Step [2000/3125], Loss: 0.1946\n",
            "Epoch [79/100], Step [3000/3125], Loss: 0.1822\n",
            "Epoch [80/100], Step [1000/3125], Loss: 0.0162\n",
            "Epoch [80/100], Step [2000/3125], Loss: 0.0045\n",
            "Epoch [80/100], Step [3000/3125], Loss: 0.0505\n",
            "Epoch [81/100], Step [1000/3125], Loss: 0.0524\n",
            "Epoch [81/100], Step [2000/3125], Loss: 0.0282\n",
            "Epoch [81/100], Step [3000/3125], Loss: 0.0105\n",
            "Epoch [82/100], Step [1000/3125], Loss: 0.0513\n",
            "Epoch [82/100], Step [2000/3125], Loss: 0.0014\n",
            "Epoch [82/100], Step [3000/3125], Loss: 0.0036\n",
            "Epoch [83/100], Step [1000/3125], Loss: 0.0371\n",
            "Epoch [83/100], Step [2000/3125], Loss: 0.0083\n",
            "Epoch [83/100], Step [3000/3125], Loss: 0.1593\n",
            "Epoch [84/100], Step [1000/3125], Loss: 0.0031\n",
            "Epoch [84/100], Step [2000/3125], Loss: 0.0115\n",
            "Epoch [84/100], Step [3000/3125], Loss: 0.0057\n",
            "Epoch [85/100], Step [1000/3125], Loss: 0.0337\n",
            "Epoch [85/100], Step [2000/3125], Loss: 0.0024\n",
            "Epoch [85/100], Step [3000/3125], Loss: 0.0551\n",
            "Epoch [86/100], Step [1000/3125], Loss: 0.0031\n",
            "Epoch [86/100], Step [2000/3125], Loss: 0.0148\n",
            "Epoch [86/100], Step [3000/3125], Loss: 0.0116\n",
            "Epoch [87/100], Step [1000/3125], Loss: 0.0537\n",
            "Epoch [87/100], Step [2000/3125], Loss: 0.0123\n",
            "Epoch [87/100], Step [3000/3125], Loss: 0.0050\n",
            "Epoch [88/100], Step [1000/3125], Loss: 0.0071\n",
            "Epoch [88/100], Step [2000/3125], Loss: 0.0034\n",
            "Epoch [88/100], Step [3000/3125], Loss: 0.0093\n",
            "Epoch [89/100], Step [1000/3125], Loss: 0.0019\n",
            "Epoch [89/100], Step [2000/3125], Loss: 0.0055\n",
            "Epoch [89/100], Step [3000/3125], Loss: 0.0360\n",
            "Epoch [90/100], Step [1000/3125], Loss: 0.0124\n",
            "Epoch [90/100], Step [2000/3125], Loss: 0.0033\n",
            "Epoch [90/100], Step [3000/3125], Loss: 0.0701\n",
            "Epoch [91/100], Step [1000/3125], Loss: 0.0053\n",
            "Epoch [91/100], Step [2000/3125], Loss: 0.0020\n",
            "Epoch [91/100], Step [3000/3125], Loss: 0.0023\n",
            "Epoch [92/100], Step [1000/3125], Loss: 0.0326\n",
            "Epoch [92/100], Step [2000/3125], Loss: 0.0265\n",
            "Epoch [92/100], Step [3000/3125], Loss: 0.0365\n",
            "Epoch [93/100], Step [1000/3125], Loss: 0.0392\n",
            "Epoch [93/100], Step [2000/3125], Loss: 0.0027\n",
            "Epoch [93/100], Step [3000/3125], Loss: 0.0123\n",
            "Epoch [94/100], Step [1000/3125], Loss: 0.0245\n",
            "Epoch [94/100], Step [2000/3125], Loss: 0.0165\n",
            "Epoch [94/100], Step [3000/3125], Loss: 0.0050\n",
            "Epoch [95/100], Step [1000/3125], Loss: 0.0057\n",
            "Epoch [95/100], Step [2000/3125], Loss: 0.0006\n",
            "Epoch [95/100], Step [3000/3125], Loss: 0.0026\n",
            "Epoch [96/100], Step [1000/3125], Loss: 0.0029\n",
            "Epoch [96/100], Step [2000/3125], Loss: 0.0077\n",
            "Epoch [96/100], Step [3000/3125], Loss: 0.0042\n",
            "Epoch [97/100], Step [1000/3125], Loss: 0.0024\n",
            "Epoch [97/100], Step [2000/3125], Loss: 0.0132\n",
            "Epoch [97/100], Step [3000/3125], Loss: 0.0132\n",
            "Epoch [98/100], Step [1000/3125], Loss: 0.0009\n",
            "Epoch [98/100], Step [2000/3125], Loss: 0.0021\n",
            "Epoch [98/100], Step [3000/3125], Loss: 0.0054\n",
            "Epoch [99/100], Step [1000/3125], Loss: 0.0326\n",
            "Epoch [99/100], Step [2000/3125], Loss: 0.0122\n",
            "Epoch [99/100], Step [3000/3125], Loss: 0.0045\n",
            "Epoch [100/100], Step [1000/3125], Loss: 0.0004\n",
            "Epoch [100/100], Step [2000/3125], Loss: 0.0057\n",
            "Epoch [100/100], Step [3000/3125], Loss: 0.0033\n",
            "Accuracy of the network on the test images: 90.09 %\n"
          ]
        }
      ]
    },
    {
      "cell_type": "code",
      "metadata": {
        "colab": {
          "base_uri": "https://localhost:8080/"
        },
        "id": "RMG4LiET5GiV",
        "outputId": "020a77cc-d625-4ab3-d3f6-dff343a7aa82"
      },
      "source": [
        "torch.save(model.state_dict(), \"model4a.pth\")\n",
        "print(\"Saved PyTorch Model State to model4a.pth\")"
      ],
      "execution_count": null,
      "outputs": [
        {
          "output_type": "stream",
          "name": "stdout",
          "text": [
            "Saved PyTorch Model State to model4a.pth\n"
          ]
        }
      ]
    },
    {
      "cell_type": "code",
      "metadata": {
        "colab": {
          "base_uri": "https://localhost:8080/"
        },
        "id": "b_GIpJ0_qPtk",
        "outputId": "bdbb6719-bde0-4b8c-8d10-cdd719edca76"
      },
      "source": [
        "#model loading\n",
        "model.load_state_dict(torch.load(\"model4a.pth\"))"
      ],
      "execution_count": null,
      "outputs": [
        {
          "output_type": "execute_result",
          "data": {
            "text/plain": [
              "<All keys matched successfully>"
            ]
          },
          "metadata": {},
          "execution_count": 97
        }
      ]
    },
    {
      "cell_type": "code",
      "metadata": {
        "colab": {
          "base_uri": "https://localhost:8080/",
          "height": 851
        },
        "id": "soPV0GA4nAfl",
        "outputId": "034d4631-3f73-4f0e-84de-9811dbab1fd0"
      },
      "source": [
        "import matplotlib.pyplot as plt\n",
        "\n",
        "plt.plot(train_loss, 'r')\n",
        "plt.xlabel('epoch')\n",
        "plt.ylabel('train loss')\n",
        "plt.title('train loss')\n",
        "plt.show()\n",
        "\n",
        "plt.plot(val_loss, 'r')\n",
        "plt.xlabel('epoch')\n",
        "plt.ylabel('val loss')\n",
        "plt.title('val loss')\n",
        "plt.show()\n",
        "epochs = range(1,101)\n",
        "\n",
        "plt.plot(epochs, train_error, 'r', label='training error')\n",
        "plt.plot(epochs, val_error, 'b', label='validation error')\n",
        "plt.title('Training and Validation error')\n",
        "plt.xlabel('Epoches')\n",
        "plt.ylabel('error')\n",
        "plt.show()"
      ],
      "execution_count": null,
      "outputs": [
        {
          "output_type": "display_data",
          "data": {
            "image/png": "[encoded data removed]",
            "text/plain": [
              "<Figure size 432x288 with 1 Axes>"
            ]
          },
          "metadata": {
            "needs_background": "light"
          }
        },
        {
          "output_type": "display_data",
          "data": {
            "image/png": "[encoded data removed]",
            "text/plain": [
              "<Figure size 432x288 with 1 Axes>"
            ]
          },
          "metadata": {
            "needs_background": "light"
          }
        },
        {
          "output_type": "display_data",
          "data": {
            "image/png": "[encoded data removed]",
            "text/plain": [
              "<Figure size 432x288 with 1 Axes>"
            ]
          },
          "metadata": {
            "needs_background": "light"
          }
        }
      ]
    },
    {
      "cell_type": "markdown",
      "metadata": {
        "id": "rLfdxakRq-JS"
      },
      "source": [
        "# **Problem4 (b)** "
      ]
    },
    {
      "cell_type": "code",
      "metadata": {
        "id": "2xSe8m1LrSIn"
      },
      "source": [
        "trainloader_100 = torch.utils.data.DataLoader(trainset, batch_size=100, shuffle=True)\n",
        "xs = []\n",
        "ys = []\n",
        "eps = 8\n",
        "\n",
        "for i, (images, labels) in enumerate(trainloader_100):\n",
        "    if i == 1:\n",
        "        break\n",
        "    xs.append(images)\n",
        "    ys.append(labels)"
      ],
      "execution_count": null,
      "outputs": []
    },
    {
      "cell_type": "code",
      "metadata": {
        "id": "-5W12uC_tKEd"
      },
      "source": [
        "optimizer = optim.SGD(model.parameters(), lr=0.01, momentum=0.9, weight_decay=1e-3)\n",
        "\n",
        "for x,y in zip(xs, ys):\n",
        "    x = x.to(device)\n",
        "    y = y.to(device)\n",
        "    x.requires_grad_(True)\n",
        "    outputs = model(x)\n",
        "    loss = criterion(outputs, y)\n",
        "    optimizer.zero_grad()\n",
        "    loss.backward()\n",
        "    x.retain_grad()\n",
        "    _, predicted = torch.max(outputs.data, 1)\n",
        "    results = predicted == y\n",
        "    dx = x.grad.data.clone()"
      ],
      "execution_count": null,
      "outputs": []
    },
    {
      "cell_type": "code",
      "metadata": {
        "id": "Yu9U3MPgtPnq"
      },
      "source": [
        "dx = dx.cpu()"
      ],
      "execution_count": null,
      "outputs": []
    },
    {
      "cell_type": "code",
      "metadata": {
        "colab": {
          "base_uri": "https://localhost:8080/"
        },
        "id": "JTqYHcjFtYUA",
        "outputId": "edd4327c-8ca7-48bd-c5b9-9af9260e67b1"
      },
      "source": [
        "results"
      ],
      "execution_count": null,
      "outputs": [
        {
          "output_type": "execute_result",
          "data": {
            "text/plain": [
              "tensor([True, True, True, True, True, True, True, True, True, True, True, True,\n",
              "        True, True, True, True, True, True, True, True, True, True, True, True,\n",
              "        True, True, True, True, True, True, True, True, True, True, True, True,\n",
              "        True, True, True, True, True, True, True, True, True, True, True, True,\n",
              "        True, True, True, True, True, True, True, True, True, True, True, True,\n",
              "        True, True, True, True, True, True, True, True, True, True, True, True,\n",
              "        True, True, True, True, True, True, True, True, True, True, True, True,\n",
              "        True, True, True, True, True, True, True, True, True, True, True, True,\n",
              "        True, True, True, True], device='cuda:0')"
            ]
          },
          "metadata": {},
          "execution_count": 107
        }
      ]
    },
    {
      "cell_type": "code",
      "metadata": {
        "colab": {
          "base_uri": "https://localhost:8080/",
          "height": 319
        },
        "id": "POLz6_wBtqvM",
        "outputId": "03bd7c7c-a916-41b9-f0a9-6456d198c60f"
      },
      "source": [
        "print(results[15])\n",
        "ax = plt.axes(projection='3d')\n",
        "ax.contour3D(dx[15][0], dx[15][1], dx[15][2], 50)\n",
        "ax.set_xlabel('b')\n",
        "ax.set_ylabel('h')\n",
        "ax.set_zlabel('w')\n",
        "plt.show()"
      ],
      "execution_count": null,
      "outputs": [
        {
          "output_type": "stream",
          "name": "stdout",
          "text": [
            "tensor(True, device='cuda:0')\n"
          ]
        },
        {
          "output_type": "stream",
          "name": "stderr",
          "text": [
            "/usr/local/lib/python3.7/dist-packages/numpy/core/_asarray.py:136: VisibleDeprecationWarning: Creating an ndarray from ragged nested sequences (which is a list-or-tuple of lists-or-tuples-or ndarrays with different lengths or shapes) is deprecated. If you meant to do this, you must specify 'dtype=object' when creating the ndarray\n",
            "  return array(a, dtype, copy=False, order=order, subok=True)\n"
          ]
        },
        {
          "output_type": "display_data",
          "data": {
            "image/png": "[encoded data removed]",
            "text/plain": [
              "<Figure size 432x288 with 1 Axes>"
            ]
          },
          "metadata": {
            "needs_background": "light"
          }
        }
      ]
    },
    {
      "cell_type": "code",
      "metadata": {
        "colab": {
          "base_uri": "https://localhost:8080/",
          "height": 319
        },
        "id": "q6k4oMyctqlQ",
        "outputId": "f2427d9b-3ef3-46e1-c3d1-4e1957179711"
      },
      "source": [
        "print(results[83])\n",
        "ax = plt.axes(projection='3d')\n",
        "ax.contour3D(dx[83][0], dx[83][1], dx[83][2], 50)\n",
        "ax.set_xlabel('b')\n",
        "ax.set_ylabel('h')\n",
        "ax.set_zlabel('w')\n",
        "plt.show()"
      ],
      "execution_count": null,
      "outputs": [
        {
          "output_type": "stream",
          "name": "stdout",
          "text": [
            "tensor(True, device='cuda:0')\n"
          ]
        },
        {
          "output_type": "stream",
          "name": "stderr",
          "text": [
            "/usr/local/lib/python3.7/dist-packages/numpy/core/_asarray.py:136: VisibleDeprecationWarning: Creating an ndarray from ragged nested sequences (which is a list-or-tuple of lists-or-tuples-or ndarrays with different lengths or shapes) is deprecated. If you meant to do this, you must specify 'dtype=object' when creating the ndarray\n",
            "  return array(a, dtype, copy=False, order=order, subok=True)\n"
          ]
        },
        {
          "output_type": "display_data",
          "data": {
            "image/png": "[encoded data removed]",
            "text/plain": [
              "<Figure size 432x288 with 1 Axes>"
            ]
          },
          "metadata": {
            "needs_background": "light"
          }
        }
      ]
    },
    {
      "cell_type": "code",
      "metadata": {
        "colab": {
          "base_uri": "https://localhost:8080/",
          "height": 364
        },
        "id": "1-8WGgyWuhQ1",
        "outputId": "c6dce0f0-8bb1-45e8-a2c2-7fb5ae3f69c2"
      },
      "source": [
        "optimizer = optim.SGD(model.parameters(), lr=0.01, momentum=0.9, weight_decay=1e-3)\n",
        "steps = []\n",
        "losses = []\n",
        "\n",
        "for x,y in zip(xs, ys):\n",
        "    x = x.to(device)\n",
        "    y = y.to(device)\n",
        "    x.requires_grad_(True)\n",
        "    outputs = model(x)\n",
        "    loss = criterion(outputs, y)\n",
        "    optimizer.zero_grad()\n",
        "    loss.backward()\n",
        "\n",
        "    for k in range(5):\n",
        "        dx = x.grad.data.clone()\n",
        "        x = torch.add(x, eps*torch.sign(dx))\n",
        "        x.retain_grad()\n",
        "\n",
        "        outputs = model(x)\n",
        "        ell = loss.item()\n",
        "        steps.append(k)\n",
        "        losses.append(ell)\n",
        "        loss = criterion(outputs, y)\n",
        "        optimizer.zero_grad()\n",
        "        loss.backward()\n",
        "        print(\"step \" + str(k+1) + \" loss: \" + str(ell))\n",
        "    plt.plot(steps, losses)\n",
        "    plt.xlabel(\"steps in the attack\")\n",
        "    plt.ylabel(\"loss\")\n",
        "    plt.show()"
      ],
      "execution_count": null,
      "outputs": [
        {
          "output_type": "stream",
          "name": "stdout",
          "text": [
            "step 1 loss: 0.012147665955126286\n",
            "step 2 loss: 16.560705184936523\n",
            "step 3 loss: 114.54875183105469\n",
            "step 4 loss: 342.1375732421875\n",
            "step 5 loss: 685.2285766601562\n"
          ]
        },
        {
          "output_type": "display_data",
          "data": {
            "image/png": "[encoded data removed]",
            "text/plain": [
              "<Figure size 432x288 with 1 Axes>"
            ]
          },
          "metadata": {
            "needs_background": "light"
          }
        }
      ]
    },
    {
      "cell_type": "markdown",
      "metadata": {
        "id": "bZ-ZPU36u9ga"
      },
      "source": [
        "# **Problem4 (c)** "
      ]
    },
    {
      "cell_type": "code",
      "metadata": {
        "id": "P-qXsUdIu9EZ"
      },
      "source": [
        "model.eval()\n",
        "o_correct = 0\n",
        "m_correct = 0\n",
        "total = 0\n",
        "for i, (images, labels) in enumerate(testloader):\n",
        "    x = images.to(device)\n",
        "    y = labels.to(device)\n",
        "    x.requires_grad_(True)\n",
        "    outputs = model(x)\n",
        "    loss = criterion(outputs, y)\n",
        "    optimizer.zero_grad()\n",
        "    loss.backward()\n",
        "    _, predicted = torch.max(outputs.data, 1)\n",
        "    o_correct += (predicted == y).sum().item()\n",
        "\n",
        "    dx = x.grad.data.clone()\n",
        "    x = torch.add(x, eps*torch.sign(dx))\n",
        "    x.retain_grad()\n",
        "    outputs = model(x)\n",
        "    _, predicted = torch.max(outputs.data, 1)\n",
        "    total += y.size(0)\n",
        "    m_correct += (predicted == y).sum().item()"
      ],
      "execution_count": null,
      "outputs": []
    },
    {
      "cell_type": "code",
      "metadata": {
        "colab": {
          "base_uri": "https://localhost:8080/"
        },
        "id": "5r_WYc14u8Tj",
        "outputId": "146ef8b7-21b9-4fc1-a372-c02d8bd56e72"
      },
      "source": [
        "print('Accuracy on the modified test images: {} %'.format(100 * m_correct / total))\n",
        "print('Accuracy on the original test images: {} %'.format(100 * o_correct / total))"
      ],
      "execution_count": null,
      "outputs": [
        {
          "output_type": "stream",
          "name": "stdout",
          "text": [
            "Accuracy on the modified test images: 9.4 %\n",
            "Accuracy on the original test images: 89.95 %\n"
          ]
        }
      ]
    }
  ]
}